{
 "cells": [
  {
   "cell_type": "markdown",
   "id": "85908b57",
   "metadata": {},
   "source": [
    "# Exercise 1: Bayes Estimator and Bayes Risk"
   ]
  },
  {
   "cell_type": "markdown",
   "id": "59939cbd-7c15-4967-9c76-e2b2954beccc",
   "metadata": {},
   "source": [
    "## Question 1\n",
    "\n",
    "### Supervised learning setting\n",
    "The Poisson distribution can be used to model rare events such as the number of claims to an insurance company. Let's take this scenario for the first exercise: The number of claims in a year would be modelled using a Poisson distribution and the total amount of the claims will be following a $Gamma$ distribution.\n",
    "\n",
    "- Let $\\mathcal{X}$ the input space, the number of claims recorded in a year\n",
    "- Let $\\mathcal{Y}$ the output space, the cumulated amount of those claims\n",
    "- Let $X \\sim \\mathcal{P}(\\lambda)$ with $\\lambda=2$\n",
    "- Let $Y \\sim Gamma(X, \\theta)$ with $\\theta=1000$\n",
    "- Our loss function $\\mathcal{l}$ will be the squared loss.\n",
    "\n",
    "### Bayes estimator $f^*:\\mathcal{X}\\rightarrow\\mathcal{Y}$ and Bayes Risk\n",
    "We know that the expected value of a Gamma distribution is $\\alpha\\theta$ if its parameters are the following:\n",
    "\n",
    "$Gamma(\\alpha, \\theta)$ and the distribution has the scale parameterization with density\n",
    "\n",
    "$\n",
    "f(y; k, \\theta) = \\frac{1}{\\Gamma(k)\\theta^k} \\, y^{k - 1} e^{-y / \\theta}, \\quad y > 0, \\, k > 0, \\, \\theta > 0\n",
    "$\n",
    "<br>\n",
    "<br>\n",
    "<br>\n",
    "For a setting with MSE the Bayes estimator is:\n",
    "\n",
    "$\n",
    "f^*(x) = \\mathbb{E}[Y \\mid X = x]\n",
    "$\n",
    "\n",
    "We know that $Y \\sim Gamma(X, \\theta)$ so $Y \\mid X = x \\sim \\mathrm{Gamma}(x, \\theta)$. Therefore:\n",
    "\n",
    "$\n",
    "f^*(x) = \\mathbb{E}[Y \\mid X = x] = x\\theta\n",
    "$\n",
    "\n",
    "And in our case:\n",
    "\n",
    "$\n",
    "f^* :\n",
    "\\begin{cases}\n",
    "\\mathcal{X} \\to \\mathcal{Y}\\\\\n",
    "x \\mapsto 1000x\n",
    "\\end{cases}\n",
    "$\n",
    "<br>\n",
    "<br>\n",
    "<br>\n",
    "Its risk can be computed the following way:\n",
    "\n",
    "$R(f^*) = \\mathbb{E}[\\mathcal{l}(Y, f^*(X))] = \\mathbb{E}[(\\mathbb{E}[Y | X] - Y)^2]$\n",
    "\n",
    "We know that:\n",
    "- $\\mathbb{E}[(\\mathbb{E}[Y | X] - Y)^2] = \\mathbb{E}[Var(Y|X)]$\n",
    "- $X \\sim Gamma(\\alpha, \\theta)$, $Var(X)=\\alpha\\theta^2$\n",
    "- $X \\sim \\mathcal{P}(\\lambda)$, $\\mathbb{E}[X]=\\lambda$\n",
    "\n",
    "So the Bayes risk is:\n",
    "\n",
    "$\n",
    "\\mathbb{E}[Var(Y|X)] = \\mathbb{E}[X\\cdot\\theta^2] = \\theta^2 \\cdot \\mathbb{E}[X] = \\theta^2\\cdot\\lambda = 1000^2 \\cdot 2 = 2.000.000\n",
    "$"
   ]
  },
  {
   "cell_type": "markdown",
   "id": "54f39189-8a5a-4bfb-9556-30bf8af439b7",
   "metadata": {},
   "source": [
    "## Question 2\n",
    "\n",
    "### Second estimator $\\bar{f}:\\mathcal{X}\\rightarrow\\mathcal{Y}$\n",
    "\n",
    "Let's take\n",
    "$\n",
    "\\bar{f} :\n",
    "\\begin{cases}\n",
    "\\mathcal{X} \\to \\mathcal{Y}\\\\\n",
    "x \\mapsto 2000\n",
    "\\end{cases}\n",
    "$\n",
    "\n",
    "(theorical mean of Y)"
   ]
  },
  {
   "cell_type": "markdown",
   "id": "08dda2e1-41a3-4a1e-8e81-6501866d6308",
   "metadata": {},
   "source": [
    "### Simulation"
   ]
  },
  {
   "cell_type": "code",
   "execution_count": 4,
   "id": "4d42efcb-d066-43e4-85bb-762b8f5904c8",
   "metadata": {},
   "outputs": [
    {
     "name": "stdout",
     "output_type": "stream",
     "text": [
      "Mesured empirical risks:\n",
      "Bayes: 2073763.7989103936\n",
      "F bar: 4412811.456178196\n"
     ]
    }
   ],
   "source": [
    "import numpy as np\n",
    "\n",
    "SAMPLE_SIZE = 1000\n",
    "\n",
    "# First we draw our input samples from the Poisson distribution\n",
    "X = np.random.poisson(lam=2, size=SAMPLE_SIZE)\n",
    "\n",
    "# Then Y is taken from the Gamma distribution with parameters X and 2000\n",
    "Y = np.where(X > 0, np.random.gamma(shape=X, scale=1000), 0.0)\n",
    "\n",
    "# Here we compute the predictions of the Bayes estimator\n",
    "Y_pred_Bayes = 1000 * X\n",
    "\n",
    "# Here we create the predictions of f bar\n",
    "Y_pred_f_bar = np.array([2000 for i in range(SAMPLE_SIZE)])\n",
    "\n",
    "# Now we can compute the empirical risks of both estimators\n",
    "Bayes_emp_risk = np.mean((Y_pred_Bayes - Y) ** 2).sum()\n",
    "f_bar_emp_risk = np.mean((Y_pred_f_bar - Y) ** 2).sum()\n",
    "m\n",
    "print(\"Mesured empirical risks:\")\n",
    "print(f\"Bayes: {Bayes_emp_risk}\")\n",
    "print(f\"F bar: {f_bar_emp_risk}\")"
   ]
  },
  {
   "cell_type": "markdown",
   "id": "55fbd9ce-9d2d-4d6c-94d9-0c1d6c757da5",
   "metadata": {},
   "source": [
    "### Results\n",
    "\n",
    "In the simulation results, we can clearly see that the empirical Bayes risk is approaching 2.000.000 and that the empirical risk of the other estimator is greater"
   ]
  }
 ],
 "metadata": {
  "kernelspec": {
   "display_name": "nvim311",
   "language": "python",
   "name": "nvim311"
  },
  "language_info": {
   "codemirror_mode": {
    "name": "ipython",
    "version": 3
   },
   "file_extension": ".py",
   "mimetype": "text/x-python",
   "name": "python",
   "nbconvert_exporter": "python",
   "pygments_lexer": "ipython3",
   "version": "3.11.13"
  }
 },
 "nbformat": 4,
 "nbformat_minor": 5
}
