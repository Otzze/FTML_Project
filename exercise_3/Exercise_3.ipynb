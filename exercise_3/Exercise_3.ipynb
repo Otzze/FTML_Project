{
 "cells": [
  {
   "cell_type": "markdown",
   "id": "14c935b4-8b3c-4f28-acc2-5acd703b0b16",
   "metadata": {},
   "source": [
    "# Exercise 3: Statistical setting"
   ]
  },
  {
   "cell_type": "markdown",
   "id": "fadc0a8d-1fe8-4081-8580-5758ca3836b3",
   "metadata": {},
   "source": [
    "## Question 1\n",
    "\n",
    "We recall that the Bayes risk is the following:\n",
    "\n",
    "$\\mathbb{E}[\\mathcal{l}(f^*,y)]$ where $f^*$ is the Bayes estimator and $\\mathcal{l}$ is a loss function\n",
    "\n",
    "Let's take the squared loss function that is used in the OLS setting.\n",
    "\n",
    "$\\mathbb{E}_Y[\\mathcal{l}(f^*,y)]  = \\mathbb{E}[(y - f^*(X))^2]$\\\n",
    "$=\\mathbb{E}_\\epsilon[(X^T\\theta^* + \\epsilon - X^T\\theta^*)^2]$\\\n",
    "$=\\mathbb{E}_\\epsilon[\\epsilon^2]$\\\n",
    "$=\\sigma^2$\n",
    "\n",
    "And the Proposition 1 states that:\n",
    "\n",
    "$\\mathbb{E}[R_X(\\hat\\theta)] = \\frac{n - d}{n}\\sigma^2$\n",
    "\n",
    "So we can see that the Bayes risk is smaller that the OLS risk"
   ]
  },
  {
   "cell_type": "markdown",
   "id": "6989b99c-0f5f-4290-b187-5370cede70de",
   "metadata": {},
   "source": [
    "## Question 2\n",
    "\n",
    "$\\mathbb{E}[R_n(\\hat\\theta)] = \\mathbb{E}[\\frac{1}{n}||y - X \\hat \\theta||^2]$ \\\n",
    "$= \\mathbb{E}[\\frac{1}{n}||y - X(X^TX)^{-1}X^Ty||^2]$ \\\n",
    "$= \\mathbb{E}_\\epsilon[\\frac{1}{n}||X\\theta^* + \\epsilon - X(X^TX)^{-1}X^T(X\\theta^* + \\epsilon)||^2]$ \\\n",
    "$= \\mathbb{E}_\\epsilon[\\frac{1}{n}||(I_n - X(X^TX)^{-1}X^T)(X\\theta^* + \\epsilon)||^2]$\n",
    "\n",
    "Let $H=X(X^TX)^{-1}X^T$. We can see that $H$ is the projection matrix onto the subspace spanned by the columns of $X$ \\\n",
    "We can now deduce that $(I_n - H)X\\theta^* = X\\theta^* - HX\\theta^* = X\\theta^* - X\\theta^* = 0$\n",
    "\n",
    "So we have the final form of:\n",
    "\n",
    "$\\mathbb{E}[R_n(\\hat\\theta)] = \\mathbb{E}_\\epsilon[\\frac{1}{n}||(I_n - X(X^TX)^{-1}X^T)\\epsilon||^2]$"
   ]
  },
  {
   "cell_type": "markdown",
   "id": "0f2d6fa9-1f9f-41cf-8e24-b6ce465b9084",
   "metadata": {},
   "source": [
    "## Question 3\n",
    "\n",
    "Let $A \\in \\mathbb{R}^{n,n}$.\n",
    "\n",
    "$tr(A^TA)=\\sum_{i=1}^{n}(A^TA)_{ii} = \\sum_{i=1}^{n}\\sum_{j=1}^{n}A_{ij}^2 = \\sum_{(i,j \\in (1, n)^2)}A_{ij}^2$"
   ]
  },
  {
   "cell_type": "markdown",
   "id": "f6907047-2c73-45c9-b03e-8c797bc27424",
   "metadata": {},
   "source": [
    "## Question 4"
   ]
  },
  {
   "cell_type": "markdown",
   "id": "9c25755d-7fd1-430d-9dfd-0c042191cdc7",
   "metadata": {},
   "source": [
    "## Question 5"
   ]
  },
  {
   "cell_type": "markdown",
   "id": "cbeb503e-bc63-45f5-a8b7-89f4fd849450",
   "metadata": {},
   "source": [
    "## Question 6"
   ]
  },
  {
   "cell_type": "markdown",
   "id": "d14caff3-9592-46f3-8213-82de30083700",
   "metadata": {},
   "source": [
    "## Question 7"
   ]
  },
  {
   "cell_type": "markdown",
   "id": "9f6c2a28-7d22-442b-83e1-7a1e7639d8f4",
   "metadata": {},
   "source": [
    "## Question 8"
   ]
  }
 ],
 "metadata": {
  "kernelspec": {
   "display_name": "Python 3 (ipykernel)",
   "language": "python",
   "name": "python3"
  },
  "language_info": {
   "codemirror_mode": {
    "name": "ipython",
    "version": 3
   },
   "file_extension": ".py",
   "mimetype": "text/x-python",
   "name": "python",
   "nbconvert_exporter": "python",
   "pygments_lexer": "ipython3",
   "version": "3.12.3"
  }
 },
 "nbformat": 4,
 "nbformat_minor": 5
}
