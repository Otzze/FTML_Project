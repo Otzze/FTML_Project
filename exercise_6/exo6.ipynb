{
 "cells": [
  {
   "cell_type": "markdown",
   "id": "e9451ae4-4264-47fe-83e9-ad29ed4d5ca8",
   "metadata": {},
   "source": [
    "# Exercice 6 : Apprentissage supervisé"
   ]
  },
  {
   "cell_type": "markdown",
   "id": "95332cd5-c64e-4330-b890-6b69b4928336",
   "metadata": {},
   "source": [
    "## Dataset\n",
    "\n",
    "https://database.lichess.org/\n",
    "\n",
    "Notre dataset provient de *Lichess*, une des plus grandes plateformes d'échecs multijoueurs en ligne (et c'est francais !). Elle met à disposition toutes les parties d'échecs qui sont jouées sur la plateforme. Les données sont regroupées par mois dans le format `pgn` (voir https://fr.wikipedia.org/wiki/Portable_Game_Notation). Dans les grandes lignes, ce format nous permet de retrouver l'elo des joueurs jouant les parties ainsi que leurs déplacement sur l'échiquier. L'elo étant le 'score' d'une joueur, plus son elo est élevé, plus il est considéré comme fort. En effet, on gagne des points d'elo en gagnant des parties et on perds des points en perdant des parties (voir https://fr.wikipedia.org/wiki/Classement_Elo)\n",
    "\n",
    "Pour simplifier l'apprentissage, nous allons uniquement nous concentrer sur le mois de juillet 2014 car il est plus léger que les autres (moins de parties).\n",
    "\n",
    "### Explication de la problématique\n",
    "\n",
    "A travers cet exercice, nous allons tenter de prédire l'elo de la partie (moyenne de l'elo des blancs et des noirs) à partir de plusieurs caractéristiques présentes dans le dataset (nombre de coups, patternes de mouvements, ouverture...). Nous allons donc tenter de résoudre un problème de classification : déterminer la tranche d'elo de la partie."
   ]
  },
  {
   "cell_type": "markdown",
   "id": "48396364-3879-46f3-91ea-b5aff7e645b9",
   "metadata": {},
   "source": [
    "### Import du dataset"
   ]
  },
  {
   "cell_type": "code",
   "execution_count": 1,
   "id": "bd1c990c-e652-4795-811a-e86bd23eb6b6",
   "metadata": {},
   "outputs": [
    {
     "name": "stderr",
     "output_type": "stream",
     "text": [
      "2025-07-03 15:14:25.238203: I tensorflow/core/platform/cpu_feature_guard.cc:182] This TensorFlow binary is optimized to use available CPU instructions in performance-critical operations.\n",
      "To enable the following instructions: SSE3 SSE4.1 SSE4.2 AVX AVX2 FMA, in other operations, rebuild TensorFlow with the appropriate compiler flags.\n"
     ]
    }
   ],
   "source": [
    "import re\n",
    "import pandas as pd\n",
    "import numpy as np\n",
    "from sklearn.model_selection import train_test_split\n",
    "from sklearn.metrics import accuracy_score, classification_report\n",
    "import matplotlib.pyplot as plt\n",
    "from sklearn.feature_extraction.text import CountVectorizer, TfidfVectorizer\n",
    "from sklearn.linear_model import LogisticRegression\n",
    "from sklearn.ensemble import RandomForestClassifier\n",
    "from sklearn.dummy import DummyClassifier\n",
    "\n",
    "import tensorflow as tf\n",
    "from tensorflow.keras.preprocessing.sequence import pad_sequences\n",
    "from tensorflow.keras.preprocessing.text import Tokenizer\n",
    "from tensorflow.keras import layers, models\n",
    "\n",
    "import optuna"
   ]
  },
  {
   "cell_type": "markdown",
   "id": "394c67ed-44d6-40e1-bf9f-3e438b9f40ec",
   "metadata": {},
   "source": [
    "### Chargement et nettoyage du dataset\n",
    "\n",
    "Le processus de chargement et de nettoyage du dataset est assez couteux en mémoire, nous mettons en place une limite du nombre de ligne du dataset que nous souhaitons lire afin d'aller plus vite."
   ]
  },
  {
   "cell_type": "code",
   "execution_count": 21,
   "id": "c18e9dec-737a-4ac8-a9fd-209d29a63916",
   "metadata": {},
   "outputs": [],
   "source": [
    "LIMIT = 200000"
   ]
  },
  {
   "cell_type": "code",
   "execution_count": 22,
   "id": "95ad2acb-2cd5-49df-a5ff-9f90a6569ac8",
   "metadata": {},
   "outputs": [],
   "source": [
    "with open(\"lichess_db_standard_rated_2014-07.pgn\") as f:\n",
    "    i = 0\n",
    "    data = \"\"\n",
    "    for l in f:\n",
    "        i += 1\n",
    "        data += l\n",
    "        if i > LIMIT:\n",
    "            break\n",
    "\n",
    "moves = re.findall(\"\\[WhiteElo \\\"(\\d+)\\\"\\]\\n\\[BlackElo \\\"(\\d+)\\\"\\]\\n\\[WhiteRatingDiff \\\"[-+]?\\d+\\\"\\]\\n\\[BlackRatingDiff \\\"[-+]?\\d+\\\"\\]\\n\\[ECO \\\"[A-Z0-9]+\\\"\\]\\n\\[Opening \\\"(.*)\\\"\\]\\n\\[TimeControl \\\".*\\\"\\]\\n\\[Termination \\\"(.*)\\\"]\\n\\n(1\\..*)\\n\", data, re.MULTILINE)\n",
    "\n",
    "\n",
    "with open(\"games.csv\", \"w\") as f:\n",
    "    print(\"elo,moves,opening,termination\", file=f)\n",
    "    for m in moves:\n",
    "        mo = re.sub(r'\\{[^{}]*\\}', '', m[4]) #clean\n",
    "        mo = re.sub(r'\\d+\\.+ ', '', mo) #clean\n",
    "        opening=re.sub(r',','',m[2])\n",
    "        print(f\"{(int(m[0])+int(m[1]))//2},{mo},{opening},{m[3]}\", file=f)\n",
    "        "
   ]
  },
  {
   "cell_type": "code",
   "execution_count": 23,
   "id": "f575d09f-e679-4d30-b647-49bfe23feeef",
   "metadata": {},
   "outputs": [
    {
     "data": {
      "text/plain": [
       "10774"
      ]
     },
     "execution_count": 23,
     "metadata": {},
     "output_type": "execute_result"
    }
   ],
   "source": [
    "len(moves)"
   ]
  },
  {
   "cell_type": "markdown",
   "id": "4c5891fe-4e35-48bf-b877-9d0982138c47",
   "metadata": {},
   "source": [
    "Après nettoyage nous obtenons 10 774 parties sur lesquels nous allons pouvoir entrainer nos modèles."
   ]
  },
  {
   "cell_type": "code",
   "execution_count": 2,
   "id": "79df2340-9e40-437b-85b0-d0f5f9dc5bfd",
   "metadata": {},
   "outputs": [],
   "source": [
    "df = pd.read_csv('games.csv')  "
   ]
  },
  {
   "cell_type": "code",
   "execution_count": 3,
   "id": "800aecfb-7ccb-4f80-b8cb-2264c1720292",
   "metadata": {},
   "outputs": [
    {
     "data": {
      "text/html": [
       "<div>\n",
       "<style scoped>\n",
       "    .dataframe tbody tr th:only-of-type {\n",
       "        vertical-align: middle;\n",
       "    }\n",
       "\n",
       "    .dataframe tbody tr th {\n",
       "        vertical-align: top;\n",
       "    }\n",
       "\n",
       "    .dataframe thead th {\n",
       "        text-align: right;\n",
       "    }\n",
       "</style>\n",
       "<table border=\"1\" class=\"dataframe\">\n",
       "  <thead>\n",
       "    <tr style=\"text-align: right;\">\n",
       "      <th></th>\n",
       "      <th>elo</th>\n",
       "      <th>moves</th>\n",
       "      <th>opening</th>\n",
       "      <th>termination</th>\n",
       "      <th>elo_slice</th>\n",
       "    </tr>\n",
       "  </thead>\n",
       "  <tbody>\n",
       "    <tr>\n",
       "      <th>0</th>\n",
       "      <td>1491</td>\n",
       "      <td>d3 d5 g3 e6 Bg2 Nf6 Nf3 Be7 O-O O-O Re1 a6 e4 ...</td>\n",
       "      <td>Mieses Opening</td>\n",
       "      <td>Time forfeit</td>\n",
       "      <td>1400</td>\n",
       "    </tr>\n",
       "    <tr>\n",
       "      <th>1</th>\n",
       "      <td>1390</td>\n",
       "      <td>e4 e6 Nf3 c5 g3 a6 Bg2 Nc6 O-O d6 h3 Be7 Nc3 Q...</td>\n",
       "      <td>Sicilian Defense: French Variation</td>\n",
       "      <td>Time forfeit</td>\n",
       "      <td>1200</td>\n",
       "    </tr>\n",
       "    <tr>\n",
       "      <th>2</th>\n",
       "      <td>1471</td>\n",
       "      <td>e4 g6 Nf3 Bg7 d4 e6 Nc3 Ne7 Be3 O-O Be2 d6 O-O...</td>\n",
       "      <td>Modern Defense</td>\n",
       "      <td>Time forfeit</td>\n",
       "      <td>1400</td>\n",
       "    </tr>\n",
       "    <tr>\n",
       "      <th>3</th>\n",
       "      <td>1725</td>\n",
       "      <td>e4 g6 d4 Bg7 e5 e6 f4 Ne7 Nf3 d5 Nc3 O-O Be3 N...</td>\n",
       "      <td>Robatsch (Modern) Defense</td>\n",
       "      <td>Normal</td>\n",
       "      <td>1600</td>\n",
       "    </tr>\n",
       "    <tr>\n",
       "      <th>4</th>\n",
       "      <td>1433</td>\n",
       "      <td>e4 c5 Nf3 Nc6 Bc4 Nf6 Nc3 e5 O-O d6 a3 Nd4 Nxd...</td>\n",
       "      <td>Sicilian Defense: Old Sicilian</td>\n",
       "      <td>Normal</td>\n",
       "      <td>1400</td>\n",
       "    </tr>\n",
       "    <tr>\n",
       "      <th>...</th>\n",
       "      <td>...</td>\n",
       "      <td>...</td>\n",
       "      <td>...</td>\n",
       "      <td>...</td>\n",
       "      <td>...</td>\n",
       "    </tr>\n",
       "    <tr>\n",
       "      <th>10769</th>\n",
       "      <td>1529</td>\n",
       "      <td>e4 Nc6 d4 d5 exd5 Qxd5 Nf3 Qe4+ Be3 Bf5 Bd3 Qe...</td>\n",
       "      <td>Nimzowitsch Defense: Scandinavian Variation Ex...</td>\n",
       "      <td>Normal</td>\n",
       "      <td>1400</td>\n",
       "    </tr>\n",
       "    <tr>\n",
       "      <th>10770</th>\n",
       "      <td>1398</td>\n",
       "      <td>e3 f5 Qh5+ g6 Qg5 Nf6 b3 e5 Bb2 d6 d4 Be7 Qh6 ...</td>\n",
       "      <td>Van't Kruijs Opening</td>\n",
       "      <td>Normal</td>\n",
       "      <td>1200</td>\n",
       "    </tr>\n",
       "    <tr>\n",
       "      <th>10771</th>\n",
       "      <td>1441</td>\n",
       "      <td>d4 e6 e3 d5 c3 Nf6 Nd2 c5 Ngf3 c4 b3 b5 bxc4 b...</td>\n",
       "      <td>Horwitz Defense</td>\n",
       "      <td>Time forfeit</td>\n",
       "      <td>1400</td>\n",
       "    </tr>\n",
       "    <tr>\n",
       "      <th>10772</th>\n",
       "      <td>1746</td>\n",
       "      <td>e4  e5  Nf3  Nc6  Bb5  d6  Bxc6+  bxc6  h3  Be...</td>\n",
       "      <td>Ruy Lopez: Steinitz Defense</td>\n",
       "      <td>Time forfeit</td>\n",
       "      <td>1600</td>\n",
       "    </tr>\n",
       "    <tr>\n",
       "      <th>10773</th>\n",
       "      <td>1675</td>\n",
       "      <td>e4 Nc6 d4 d5 e5 Bf5 Bd3 Nxd4 c3 Bxd3 Qxd3 Nc6 ...</td>\n",
       "      <td>Nimzowitsch Defense: Scandinavian Variation Ad...</td>\n",
       "      <td>Time forfeit</td>\n",
       "      <td>1600</td>\n",
       "    </tr>\n",
       "  </tbody>\n",
       "</table>\n",
       "<p>10774 rows × 5 columns</p>\n",
       "</div>"
      ],
      "text/plain": [
       "        elo                                              moves  \\\n",
       "0      1491  d3 d5 g3 e6 Bg2 Nf6 Nf3 Be7 O-O O-O Re1 a6 e4 ...   \n",
       "1      1390  e4 e6 Nf3 c5 g3 a6 Bg2 Nc6 O-O d6 h3 Be7 Nc3 Q...   \n",
       "2      1471  e4 g6 Nf3 Bg7 d4 e6 Nc3 Ne7 Be3 O-O Be2 d6 O-O...   \n",
       "3      1725  e4 g6 d4 Bg7 e5 e6 f4 Ne7 Nf3 d5 Nc3 O-O Be3 N...   \n",
       "4      1433  e4 c5 Nf3 Nc6 Bc4 Nf6 Nc3 e5 O-O d6 a3 Nd4 Nxd...   \n",
       "...     ...                                                ...   \n",
       "10769  1529  e4 Nc6 d4 d5 exd5 Qxd5 Nf3 Qe4+ Be3 Bf5 Bd3 Qe...   \n",
       "10770  1398  e3 f5 Qh5+ g6 Qg5 Nf6 b3 e5 Bb2 d6 d4 Be7 Qh6 ...   \n",
       "10771  1441  d4 e6 e3 d5 c3 Nf6 Nd2 c5 Ngf3 c4 b3 b5 bxc4 b...   \n",
       "10772  1746  e4  e5  Nf3  Nc6  Bb5  d6  Bxc6+  bxc6  h3  Be...   \n",
       "10773  1675  e4 Nc6 d4 d5 e5 Bf5 Bd3 Nxd4 c3 Bxd3 Qxd3 Nc6 ...   \n",
       "\n",
       "                                                 opening   termination  \\\n",
       "0                                         Mieses Opening  Time forfeit   \n",
       "1                     Sicilian Defense: French Variation  Time forfeit   \n",
       "2                                         Modern Defense  Time forfeit   \n",
       "3                              Robatsch (Modern) Defense        Normal   \n",
       "4                         Sicilian Defense: Old Sicilian        Normal   \n",
       "...                                                  ...           ...   \n",
       "10769  Nimzowitsch Defense: Scandinavian Variation Ex...        Normal   \n",
       "10770                               Van't Kruijs Opening        Normal   \n",
       "10771                                    Horwitz Defense  Time forfeit   \n",
       "10772                        Ruy Lopez: Steinitz Defense  Time forfeit   \n",
       "10773  Nimzowitsch Defense: Scandinavian Variation Ad...  Time forfeit   \n",
       "\n",
       "       elo_slice  \n",
       "0           1400  \n",
       "1           1200  \n",
       "2           1400  \n",
       "3           1600  \n",
       "4           1400  \n",
       "...          ...  \n",
       "10769       1400  \n",
       "10770       1200  \n",
       "10771       1400  \n",
       "10772       1600  \n",
       "10773       1600  \n",
       "\n",
       "[10774 rows x 5 columns]"
      ]
     },
     "execution_count": 3,
     "metadata": {},
     "output_type": "execute_result"
    }
   ],
   "source": [
    "df['elo_slice'] = (df['elo'] // 200) * 200\n",
    "\n",
    "# Filter to reasonable range (e.g. 800–2800)\n",
    "df = df[(df['elo_slice'] >= 800) & (df['elo_slice'] <= 2800)]\n",
    "\n",
    "df"
   ]
  },
  {
   "cell_type": "markdown",
   "id": "6d8649e5-fcc6-4595-9057-60e1bb5e54d3",
   "metadata": {},
   "source": [
    "Dans un soucis de simplicité, nous segmentons notre dataset en tranche de 200 points d'elo, ce qui permets de réduire le nombre de classes"
   ]
  },
  {
   "cell_type": "code",
   "execution_count": 4,
   "id": "c3de6da3-8d9d-4b41-ba87-c2217b879c12",
   "metadata": {},
   "outputs": [
    {
     "name": "stdout",
     "output_type": "stream",
     "text": [
      "Kept 6 slices; 10739 games remain.\n"
     ]
    }
   ],
   "source": [
    "slice_counts = df['elo_slice'].value_counts().sort_index()\n",
    "min_samples = 100\n",
    "good_slices = slice_counts[slice_counts >= min_samples].index\n",
    "df_filtered = df[df['elo_slice'].isin(good_slices)].copy()\n",
    "print(f\"Kept {len(good_slices)} slices; {len(df_filtered)} games remain.\")"
   ]
  },
  {
   "cell_type": "markdown",
   "id": "c2f09743-6592-4121-9466-32b0d0589fab",
   "metadata": {},
   "source": [
    "Nous enlenvons maintenant toutes les tranches qui n'ont pas au moins 100 parties. En effet, ces données pourraient induire en erreur nos modèles."
   ]
  },
  {
   "cell_type": "code",
   "execution_count": 5,
   "id": "6ae12cc4-5f6d-4460-89ba-0c3e4d87a861",
   "metadata": {},
   "outputs": [
    {
     "name": "stdout",
     "output_type": "stream",
     "text": [
      "Train slice counts:\n",
      " elo_slice\n",
      "1400    3192\n",
      "1600    2881\n",
      "1200    1279\n",
      "1800     950\n",
      "1000     148\n",
      "2000     141\n",
      "Name: count, dtype: int64\n",
      "Test  slice counts:\n",
      " elo_slice\n",
      "1400    798\n",
      "1600    721\n",
      "1200    320\n",
      "1800    237\n",
      "1000     37\n",
      "2000     35\n",
      "Name: count, dtype: int64\n"
     ]
    }
   ],
   "source": [
    "X = df_filtered.drop('elo_slice', axis=1)\n",
    "y = df_filtered['elo_slice']              \n",
    "\n",
    "X_train, X_test, y_train, y_test = train_test_split(\n",
    "    X, y,\n",
    "    test_size=0.2,      \n",
    "    random_state=42,    \n",
    "    stratify=y   \n",
    ")\n",
    "\n",
    "print(\"Train slice counts:\\n\", y_train.value_counts())\n",
    "print(\"Test  slice counts:\\n\", y_test.value_counts())\n"
   ]
  },
  {
   "cell_type": "markdown",
   "id": "df225ded-5707-4442-93e0-acc455cb4b4a",
   "metadata": {},
   "source": [
    "Nous avons maintenant séparés nos données en `train` et en `test`. Cela nous permettra d'évaluer nos modèles de manière efficace."
   ]
  },
  {
   "cell_type": "code",
   "execution_count": 6,
   "id": "d107e942-a81a-48e9-8208-be70d8340bb9",
   "metadata": {},
   "outputs": [
    {
     "data": {
      "image/png": "[encoded data removed]",
      "text/plain": [
       "<Figure size 640x480 with 1 Axes>"
      ]
     },
     "metadata": {},
     "output_type": "display_data"
    },
    {
     "name": "stdout",
     "output_type": "stream",
     "text": [
      "Nombre total d'échantillons: 8591\n"
     ]
    }
   ],
   "source": [
    "X_train_df = pd.DataFrame(X_train)\n",
    "X_test_df  = pd.DataFrame(X_test)\n",
    "y_train_s  = pd.Series(y_train, name='y_train')\n",
    "y_test_s   = pd.Series(y_test,  name='y_test')\n",
    "\n",
    "plt.figure()\n",
    "counts = y_train_s.value_counts().sort_index()\n",
    "counts.plot(kind='bar')\n",
    "plt.title('Distribution des classes (y_train)')\n",
    "plt.xlabel('Classe')\n",
    "plt.ylabel('Nombre d\\'échantillons')\n",
    "plt.show()\n",
    "\n",
    "print(\"Nombre total d'échantillons: \" + str(len(y_train)))"
   ]
  },
  {
   "cell_type": "markdown",
   "id": "233c662b-5249-45c8-9736-2fadd296e8b4",
   "metadata": {},
   "source": [
    "La répartition des classes montre un fort déséquilibre autour des tranches intermédiaires (1400 et 1600), qui concentrent à elles deux près de 70 % des échantillons (environ 6 000 parties sur 8 591). Les extrêmes, à savoir les tranches 1000 et 2000, sont très peu représentées (chacune autour de 1–2 % des données).\n",
    "\n",
    "Un tel déséquilibre peut biaiser l’apprentissage : un modèle optimisant l’accuracy cherchera à favoriser systématiquement les classes majoritaires (1400/1600), au détriment de la détection des joueurs très faibles ou très forts."
   ]
  },
  {
   "cell_type": "markdown",
   "id": "057c3c34-c3ae-46eb-9e5a-d1ea402a2325",
   "metadata": {},
   "source": [
    "## Approche 1:  Baseline (Classe la plus fréquente)\n",
    "\n",
    "Ce premier modèle va servir de comparaison pour les suivants. Son rôle est juste de toujours prédire la classe la plus fréquente. On pourra en déduire que si un modèle à une accuracy inférieure à celui-ci, alors il est mauvais."
   ]
  },
  {
   "cell_type": "code",
   "execution_count": 44,
   "id": "dcb43125-d711-4884-89e2-df0b3641efe9",
   "metadata": {},
   "outputs": [
    {
     "name": "stdout",
     "output_type": "stream",
     "text": [
      "Accuracy (Most Frequent): 0.3715083798882682\n"
     ]
    }
   ],
   "source": [
    "dummy_clf = DummyClassifier(strategy='most_frequent', random_state=42)\n",
    "\n",
    "dummy_clf.fit(X_train, y_train)\n",
    "\n",
    "y_pred_dummy = dummy_clf.predict(X_test)\n",
    "\n",
    "print(\"Accuracy (Most Frequent):\", accuracy_score(y_test, y_pred_dummy))"
   ]
  },
  {
   "cell_type": "markdown",
   "id": "e51eb990-f987-4658-beb1-cb974b765dd0",
   "metadata": {},
   "source": [
    "Nous obtenons donc une accuracy de **37%**. Les modèles devront donc faire mieux que cette baseline pour qu'on puisse s'assurer d'un apprentissage."
   ]
  },
  {
   "cell_type": "markdown",
   "id": "d3aae885-44b6-40a4-85aa-6442d2a04fd8",
   "metadata": {},
   "source": [
    "## Approche 2: Features simples (nombre de coups, ouverture, fin de partie)\n",
    "\n",
    "Use just the count of moves as a single feature."
   ]
  },
  {
   "cell_type": "code",
   "execution_count": 47,
   "id": "880ad505-3fc0-4bcd-9fa0-b1debfa33ddf",
   "metadata": {},
   "outputs": [
    {
     "name": "stdout",
     "output_type": "stream",
     "text": [
      "Accuracy: 0.34497206703910616\n"
     ]
    }
   ],
   "source": [
    "from sklearn.pipeline import Pipeline\n",
    "from sklearn.compose import ColumnTransformer\n",
    "from sklearn.preprocessing import OneHotEncoder, FunctionTransformer\n",
    "from sklearn.ensemble import RandomForestClassifier\n",
    "from sklearn.metrics import classification_report, accuracy_score\n",
    "\n",
    "def count_moves(df):\n",
    "    return df['moves'].str.split().apply(len).to_frame(name='moves_count')\n",
    "\n",
    "preprocessor = ColumnTransformer(transformers=[\n",
    "    ('moves_count', FunctionTransformer(count_moves, validate=False), ['moves']),\n",
    "    ('opening_ohe',   OneHotEncoder(handle_unknown='ignore'), ['opening']),\n",
    "    ('termination_ohe',      OneHotEncoder(handle_unknown='ignore'), ['termination']),\n",
    "])\n",
    "\n",
    "clf = Pipeline(steps=[\n",
    "    ('preproc', preprocessor),\n",
    "    ('rf',       RandomForestClassifier(n_estimators=100, random_state=42))\n",
    "])\n",
    "\n",
    "clf.fit(X_train, y_train)\n",
    "\n",
    "y_pred = clf.predict(X_test)\n",
    "print(\"Accuracy:\", accuracy_score(y_test, y_pred))\n"
   ]
  },
  {
   "cell_type": "markdown",
   "id": "f59ac460-dbbc-4085-bc04-c69c48ff34b4",
   "metadata": {},
   "source": [
    "### Explication de l'approche\n",
    "Dans cette deuxième étape, nous avons construit un modèle de classification à partir de trois variables explicatives : le nombre de coups joués dans la partie, l’ouverture choisie et comment s'est terminée la partie. L’objectif était de tester si ces caractéristiques brutes, faciles à extraire, pouvaient améliorer la performance par rapport à la baseline naïve obtenue avec un DummyClassifier.\n",
    "\n",
    "### Analyse du résultat obtenu\n",
    "\n",
    "Le modèle a obtenu une accuracy de **34,5 %** sur le jeu de test, soit un score inférieur à la baseline “most frequent” de 37,15 % fournie par le DummyClassifier.\n",
    "\n",
    "Plusieurs facteurs peuvent expliquer cette dégradation de performance :\n",
    "\n",
    "- Informations limitées : Le seul indicateur quantitatif est le nombre de coups, qui ne garantit pas une corrélation forte avec le niveau de jeu. De même, l’ouverture et la terminaison, bien que relevant de stratégies et de styles de partie, sont trop hétérogènes et peu discriminantes entre les différentes tranches d’elo.\n",
    "\n",
    "- Déséquilibre des classes : Certaines tranches d’elo sont beaucoup plus fréquentes que d’autres, ce qui biaise l’entraînement d’un modèle simple et renforce la performance du classifieur le plus fréquent.\n",
    "\n",
    "- Complexité insuffisante : Le RandomForest sur ces trois features peut facilement suradapter des bruits ou des artefacts de données, sans extraire de véritables tendances généralisables."
   ]
  },
  {
   "cell_type": "markdown",
   "id": "875be2a0-b084-43b7-932f-c30e83db190b",
   "metadata": {},
   "source": [
    "## Approche 3: Bag-of-Moves (CountVectorizer) + Logistic Regression\n",
    "\n",
    "Vectorisation des coups"
   ]
  },
  {
   "cell_type": "code",
   "execution_count": 50,
   "id": "e285aafd-e486-4bec-8f5f-2ef948736e78",
   "metadata": {},
   "outputs": [
    {
     "name": "stdout",
     "output_type": "stream",
     "text": [
      "Accuracy (Bag‑of‑Moves + LR): 0.35335195530726254\n"
     ]
    }
   ],
   "source": [
    "from sklearn.feature_extraction.text import CountVectorizer\n",
    "from sklearn.linear_model import LogisticRegression\n",
    "from sklearn.pipeline import Pipeline\n",
    "from sklearn.compose import ColumnTransformer\n",
    "from sklearn.metrics import accuracy_score, classification_report\n",
    "\n",
    "pipeline_bow = Pipeline([\n",
    "    ('vect', ColumnTransformer([\n",
    "        ('moves_bow', CountVectorizer(token_pattern=r'(?u)\\b\\w+\\b'), 'moves'),\n",
    "    ], remainder='drop')),\n",
    "    ('clf', LogisticRegression(max_iter=1000, random_state=42))\n",
    "])\n",
    "\n",
    "pipeline_bow.fit(X_train, y_train)\n",
    "\n",
    "y_pred_bow = pipeline_bow.predict(X_test)\n",
    "print(\"Accuracy (Bag‑of‑Moves + LR):\", accuracy_score(y_test, y_pred_bow))\n"
   ]
  },
  {
   "cell_type": "markdown",
   "id": "e4088e61-4b7e-40f1-b77b-bf8156e80e85",
   "metadata": {},
   "source": [
    "Cette approche repose sur un \"Bag-of-Moves\" combinée à une régression logistique. Dans un premier temps, la colonne textuelle moves est traitée par un CountVectorizer qui segmente la séquence de coups en \"tokens\" (ici chaque coup distinct) et compte la fréquence d’apparition de chacun. Ces décomptes forment un grand vecteur pour chaque partie, où chaque dimension représente la présence ou le nombre de fois qu’un coup particulier a été joué. Ce prétraitement est enchaîné dans un pipeline avec le classifieur LogisticRegression, dont l’algorithme cherche à estimer, à partir des fréquences de coups, la probabilité que la partie appartienne à telle ou telle tranche d’elo.\n",
    "\n",
    "Nous obtenons une accuracy d'environ **35%**. Cette performance modeste s’explique principalement par la nature très \"généraliste\" du Bag-of-Moves : tous les coups sont traités de manière équivalente, sans hiérarchisation ni pondération de leur importance, et sans prendre en compte l’enchaînement séquentiel ni le contexte positionnel. De plus, la régression logistique, linéaire par construction, ne capte pas les interactions complexes entre les différents coups et peut sous‑estimer l’impact de certains motifs tactiques ou stratégiques."
   ]
  },
  {
   "cell_type": "markdown",
   "id": "009ce1f2-8b0c-4f49-81d5-f087f860125c",
   "metadata": {},
   "source": [
    "## Nouvelles approches ?\n",
    "\n",
    "A partir de maintenant, nous allons utiliser des modèles et des techniques que nous avons apprises pendant notre cours de NLP, notamment les TF-IDF et le one hot encoding."
   ]
  },
  {
   "cell_type": "markdown",
   "id": "878bf6e8-dbd9-43a1-b270-2338e9972845",
   "metadata": {},
   "source": [
    "## Approche 4: TF-IDF + Random Forest\n"
   ]
  },
  {
   "cell_type": "code",
   "execution_count": 58,
   "id": "0c716903-2a43-4562-898a-fd6523a3dd2c",
   "metadata": {},
   "outputs": [
    {
     "name": "stderr",
     "output_type": "stream",
     "text": [
      "[Parallel(n_jobs=-1)]: Using backend ThreadingBackend with 8 concurrent workers.\n",
      "[Parallel(n_jobs=-1)]: Done  34 tasks      | elapsed:    1.0s\n",
      "[Parallel(n_jobs=-1)]: Done 184 tasks      | elapsed:    4.8s\n",
      "[Parallel(n_jobs=-1)]: Done 434 tasks      | elapsed:   11.8s\n",
      "[Parallel(n_jobs=-1)]: Done 784 tasks      | elapsed:   22.5s\n",
      "[Parallel(n_jobs=-1)]: Done 1234 tasks      | elapsed:   39.3s\n",
      "[Parallel(n_jobs=-1)]: Done 1784 tasks      | elapsed:  1.0min\n",
      "[Parallel(n_jobs=-1)]: Done 2000 out of 2000 | elapsed:  1.2min finished\n",
      "[Parallel(n_jobs=8)]: Using backend ThreadingBackend with 8 concurrent workers.\n",
      "[Parallel(n_jobs=8)]: Done  34 tasks      | elapsed:    0.0s\n",
      "[Parallel(n_jobs=8)]: Done 184 tasks      | elapsed:    0.1s\n",
      "[Parallel(n_jobs=8)]: Done 434 tasks      | elapsed:    0.2s\n",
      "[Parallel(n_jobs=8)]: Done 784 tasks      | elapsed:    0.3s\n",
      "[Parallel(n_jobs=8)]: Done 1234 tasks      | elapsed:    0.5s\n"
     ]
    },
    {
     "name": "stdout",
     "output_type": "stream",
     "text": [
      "Accuracy (TF‑IDF + RF, 200 arbres): 0.4036312849162011\n"
     ]
    },
    {
     "name": "stderr",
     "output_type": "stream",
     "text": [
      "[Parallel(n_jobs=8)]: Done 1784 tasks      | elapsed:    0.8s\n",
      "[Parallel(n_jobs=8)]: Done 2000 out of 2000 | elapsed:    0.9s finished\n"
     ]
    }
   ],
   "source": [
    "from sklearn.feature_extraction.text import TfidfVectorizer\n",
    "from sklearn.ensemble import RandomForestClassifier\n",
    "from sklearn.pipeline import Pipeline\n",
    "from sklearn.compose import ColumnTransformer\n",
    "from sklearn.metrics import accuracy_score, classification_report\n",
    "\n",
    "pipeline_tfidf_rf = Pipeline([\n",
    "    ('tfidf', ColumnTransformer([\n",
    "        ('moves_tfidf',\n",
    "         TfidfVectorizer(token_pattern=r'(?u)\\b\\w+\\b', max_features=6000),\n",
    "         'moves'),\n",
    "    ], remainder='drop')),\n",
    "    ('rf',\n",
    "     RandomForestClassifier(\n",
    "         n_estimators=2000,\n",
    "         verbose=1,           \n",
    "         n_jobs=-1,           \n",
    "         random_state=42\n",
    "     ))\n",
    "])\n",
    "\n",
    "pipeline_tfidf_rf.fit(X_train, y_train)\n",
    "\n",
    "y_pred_tfidf_rf = pipeline_tfidf_rf.predict(X_test)\n",
    "print(\"Accuracy (TF‑IDF + RF, 200 arbres):\", accuracy_score(y_test, y_pred_tfidf_rf))"
   ]
  },
  {
   "cell_type": "markdown",
   "id": "44daf779-5521-47e7-a713-ed5beab66921",
   "metadata": {},
   "source": [
    "Dans cette approche, nous cherchons à capturer à la fois la fréquence et l’importance discriminante de chaque coup joué pendant la partie. Le TF‑IDF (Term Frequency–Inverse Document Frequency) permet de pondérer chaque coup non seulement en fonction de sa fréquence dans une partie donnée, mais aussi de sa rareté dans l’ensemble du corpus : un coup très courant (par exemple un coup d’ouverture standard) aura un poids moins important qu’un motif tactique plus rare mais potentiellement plus révélateur du niveau de jeu. En limitant le nombre de caractéristiques (max_features=6000), on contrôle la dimensionnalité tout en conservant les coups les plus informatifs.\n",
    "\n",
    "Le Random Forest en aval exploite ces vecteurs TF‑IDF comme vecteurs de caractéristiques pour entraîner 2000 arbres de décision (n_estimators=2000) en parallèle. Chaque arbre offre une vision différente du partitionnement de l’espace selon les combinaisons de coups, et l’agrégation de leurs prédictions renforce la robustesse face au bruit et aux patterns non linéaires.\n",
    "\n",
    "Avec cette configuration, nous obtenons une accuracy de **40,36 %** sur le jeu de test. Ce progrès significatif (par rapport aux ~35 % des régressions logistiques et aux ~34–37 % des premiers modèles) montre que la pondération TF‑IDF parvient à extraire des motifs de coups pertinents pour différencier les tranches d’elo. Toutefois, il reste encore de la marge avant de dépasser nettement la baseline, ce qui justifierais l’ajout de variables complémentaires et l’optimisation d’hyperparamètres pour les prochains modèles."
   ]
  },
  {
   "cell_type": "markdown",
   "id": "3f1c29c9-8e15-4c70-b074-983191c7a59b",
   "metadata": {},
   "source": [
    "## Approche 5: Random forest + TF-IDF avec toutes les features (optimisé via optuna)\n"
   ]
  },
  {
   "cell_type": "code",
   "execution_count": 59,
   "id": "281356e6-fd7d-4938-ab89-e3c58f295c1b",
   "metadata": {},
   "outputs": [
    {
     "name": "stderr",
     "output_type": "stream",
     "text": [
      "[I 2025-07-03 14:56:45,647] A new study created in memory with name: no-name-5536aca6-5d06-4576-a972-f1c84fce44b2\n",
      "[I 2025-07-03 14:56:56,143] Trial 0 finished with value: 0.40274604193619096 and parameters: {'n_estimators': 350, 'max_depth': 43, 'min_samples_leaf': 4, 'ngram_min': 1, 'ngram_max': 2, 'max_features': 9000}. Best is trial 0 with value: 0.40274604193619096.\n",
      "[I 2025-07-03 14:57:01,036] Trial 1 finished with value: 0.40309496003397877 and parameters: {'n_estimators': 298, 'max_depth': 23, 'min_samples_leaf': 9, 'ngram_min': 1, 'ngram_max': 1, 'max_features': 3000}. Best is trial 1 with value: 0.40309496003397877.\n",
      "[I 2025-07-03 14:57:06,428] Trial 2 finished with value: 0.39843999503067123 and parameters: {'n_estimators': 165, 'max_depth': 27, 'min_samples_leaf': 4, 'ngram_min': 1, 'ngram_max': 2, 'max_features': 6000}. Best is trial 1 with value: 0.40309496003397877.\n",
      "[I 2025-07-03 14:57:10,704] Trial 3 finished with value: 0.40495760460144226 and parameters: {'n_estimators': 190, 'max_depth': 19, 'min_samples_leaf': 9, 'ngram_min': 1, 'ngram_max': 2, 'max_features': 6000}. Best is trial 3 with value: 0.40495760460144226.\n",
      "[I 2025-07-03 14:57:12,852] Trial 4 finished with value: 0.3993709311182096 and parameters: {'n_estimators': 119, 'max_depth': 12, 'min_samples_leaf': 5, 'ngram_min': 1, 'ngram_max': 1, 'max_features': 7000}. Best is trial 3 with value: 0.40495760460144226.\n",
      "[I 2025-07-03 14:57:17,252] Trial 5 finished with value: 0.39878891312845904 and parameters: {'n_estimators': 142, 'max_depth': 50, 'min_samples_leaf': 10, 'ngram_min': 1, 'ngram_max': 2, 'max_features': 6000}. Best is trial 3 with value: 0.40495760460144226.\n",
      "[I 2025-07-03 14:57:23,096] Trial 6 finished with value: 0.39622831040872725 and parameters: {'n_estimators': 338, 'max_depth': 12, 'min_samples_leaf': 5, 'ngram_min': 1, 'ngram_max': 2, 'max_features': 2000}. Best is trial 3 with value: 0.40495760460144226.\n",
      "[I 2025-07-03 14:57:32,761] Trial 7 finished with value: 0.39983635850974775 and parameters: {'n_estimators': 464, 'max_depth': 31, 'min_samples_leaf': 10, 'ngram_min': 1, 'ngram_max': 1, 'max_features': 3000}. Best is trial 3 with value: 0.40495760460144226.\n",
      "[I 2025-07-03 14:57:42,121] Trial 8 finished with value: 0.40111694443523 and parameters: {'n_estimators': 145, 'max_depth': 50, 'min_samples_leaf': 5, 'ngram_min': 1, 'ngram_max': 3, 'max_features': 8000}. Best is trial 3 with value: 0.40495760460144226.\n",
      "[I 2025-07-03 14:57:47,057] Trial 9 finished with value: 0.39727555252886143 and parameters: {'n_estimators': 207, 'max_depth': 19, 'min_samples_leaf': 6, 'ngram_min': 1, 'ngram_max': 1, 'max_features': 5000}. Best is trial 3 with value: 0.40495760460144226.\n",
      "[I 2025-07-03 14:57:52,617] Trial 10 finished with value: 0.39238752828582224 and parameters: {'n_estimators': 244, 'max_depth': 6, 'min_samples_leaf': 8, 'ngram_min': 1, 'ngram_max': 3, 'max_features': 10000}. Best is trial 3 with value: 0.40495760460144226.\n",
      "[I 2025-07-03 14:58:01,293] Trial 11 finished with value: 0.4012334130767494 and parameters: {'n_estimators': 282, 'max_depth': 26, 'min_samples_leaf': 8, 'ngram_min': 1, 'ngram_max': 1, 'max_features': 4000}. Best is trial 3 with value: 0.40495760460144226.\n",
      "[I 2025-07-03 14:58:32,675] Trial 12 finished with value: 0.4008848608490398 and parameters: {'n_estimators': 434, 'max_depth': 34, 'min_samples_leaf': 2, 'ngram_min': 1, 'ngram_max': 3, 'max_features': 1000}. Best is trial 3 with value: 0.40495760460144226.\n",
      "[I 2025-07-03 14:58:41,441] Trial 13 finished with value: 0.4007670913361315 and parameters: {'n_estimators': 391, 'max_depth': 21, 'min_samples_leaf': 8, 'ngram_min': 1, 'ngram_max': 1, 'max_features': 4000}. Best is trial 3 with value: 0.40495760460144226.\n",
      "[I 2025-07-03 14:58:47,862] Trial 14 finished with value: 0.4020482057406154 and parameters: {'n_estimators': 231, 'max_depth': 19, 'min_samples_leaf': 9, 'ngram_min': 1, 'ngram_max': 2, 'max_features': 3000}. Best is trial 3 with value: 0.40495760460144226.\n",
      "[I 2025-07-03 14:58:59,331] Trial 15 finished with value: 0.4023973677517885 and parameters: {'n_estimators': 311, 'max_depth': 38, 'min_samples_leaf': 7, 'ngram_min': 1, 'ngram_max': 1, 'max_features': 1000}. Best is trial 3 with value: 0.40495760460144226.\n",
      "[I 2025-07-03 14:59:07,927] Trial 16 finished with value: 0.3948317030162654 and parameters: {'n_estimators': 269, 'max_depth': 13, 'min_samples_leaf': 1, 'ngram_min': 1, 'ngram_max': 3, 'max_features': 5000}. Best is trial 3 with value: 0.40495760460144226.\n",
      "[I 2025-07-03 14:59:13,489] Trial 17 finished with value: 0.4000690518794014 and parameters: {'n_estimators': 183, 'max_depth': 23, 'min_samples_leaf': 9, 'ngram_min': 1, 'ngram_max': 2, 'max_features': 7000}. Best is trial 3 with value: 0.40495760460144226.\n",
      "[I 2025-07-03 14:59:21,932] Trial 18 finished with value: 0.3992547063900753 and parameters: {'n_estimators': 389, 'max_depth': 16, 'min_samples_leaf': 7, 'ngram_min': 1, 'ngram_max': 2, 'max_features': 3000}. Best is trial 3 with value: 0.40495760460144226.\n",
      "[I 2025-07-03 14:59:25,119] Trial 19 finished with value: 0.39587866057078336 and parameters: {'n_estimators': 105, 'max_depth': 32, 'min_samples_leaf': 10, 'ngram_min': 1, 'ngram_max': 1, 'max_features': 4000}. Best is trial 3 with value: 0.40495760460144226.\n",
      "[I 2025-07-03 14:59:31,638] Trial 20 finished with value: 0.3898266816527051 and parameters: {'n_estimators': 208, 'max_depth': 5, 'min_samples_leaf': 9, 'ngram_min': 1, 'ngram_max': 3, 'max_features': 8000}. Best is trial 3 with value: 0.40495760460144226.\n",
      "[I 2025-07-03 14:59:49,158] Trial 21 finished with value: 0.39960370579232496 and parameters: {'n_estimators': 368, 'max_depth': 42, 'min_samples_leaf': 3, 'ngram_min': 1, 'ngram_max': 2, 'max_features': 10000}. Best is trial 3 with value: 0.40495760460144226.\n",
      "[I 2025-07-03 15:00:05,216] Trial 22 finished with value: 0.3956464956801313 and parameters: {'n_estimators': 335, 'max_depth': 44, 'min_samples_leaf': 3, 'ngram_min': 1, 'ngram_max': 2, 'max_features': 9000}. Best is trial 3 with value: 0.40495760460144226.\n",
      "[I 2025-07-03 15:00:14,037] Trial 23 finished with value: 0.4004187423695762 and parameters: {'n_estimators': 307, 'max_depth': 24, 'min_samples_leaf': 6, 'ngram_min': 1, 'ngram_max': 2, 'max_features': 8000}. Best is trial 3 with value: 0.40495760460144226.\n",
      "[I 2025-07-03 15:00:30,973] Trial 24 finished with value: 0.3997200118249209 and parameters: {'n_estimators': 495, 'max_depth': 29, 'min_samples_leaf': 4, 'ngram_min': 1, 'ngram_max': 1, 'max_features': 9000}. Best is trial 3 with value: 0.40495760460144226.\n",
      "[I 2025-07-03 15:00:45,315] Trial 25 finished with value: 0.4015824531312299 and parameters: {'n_estimators': 425, 'max_depth': 38, 'min_samples_leaf': 7, 'ngram_min': 1, 'ngram_max': 2, 'max_features': 7000}. Best is trial 3 with value: 0.40495760460144226.\n",
      "[I 2025-07-03 15:00:59,625] Trial 26 finished with value: 0.3994875623686527 and parameters: {'n_estimators': 345, 'max_depth': 16, 'min_samples_leaf': 4, 'ngram_min': 1, 'ngram_max': 3, 'max_features': 2000}. Best is trial 3 with value: 0.40495760460144226.\n",
      "[I 2025-07-03 15:01:09,449] Trial 27 finished with value: 0.4004182138905746 and parameters: {'n_estimators': 262, 'max_depth': 36, 'min_samples_leaf': 9, 'ngram_min': 1, 'ngram_max': 2, 'max_features': 6000}. Best is trial 3 with value: 0.40495760460144226.\n",
      "[I 2025-07-03 15:01:25,154] Trial 28 finished with value: 0.40239683927278685 and parameters: {'n_estimators': 310, 'max_depth': 45, 'min_samples_leaf': 3, 'ngram_min': 1, 'ngram_max': 1, 'max_features': 9000}. Best is trial 3 with value: 0.40495760460144226.\n",
      "[I 2025-07-03 15:01:31,760] Trial 29 finished with value: 0.39995335563026896 and parameters: {'n_estimators': 170, 'max_depth': 27, 'min_samples_leaf': 6, 'ngram_min': 1, 'ngram_max': 2, 'max_features': 5000}. Best is trial 3 with value: 0.40495760460144226.\n"
     ]
    },
    {
     "name": "stdout",
     "output_type": "stream",
     "text": [
      "Best params: {'n_estimators': 190, 'max_depth': 19, 'min_samples_leaf': 9, 'ngram_min': 1, 'ngram_max': 2, 'max_features': 6000}\n",
      "Accuracy: 0.3994413407821229\n"
     ]
    }
   ],
   "source": [
    "def count_moves(df):\n",
    "    return df['moves'].str.split().apply(len).to_frame(name='moves_count')\n",
    "\n",
    "def objective(trial):\n",
    "    n_estimators = trial.suggest_int('n_estimators', 100, 500)\n",
    "    max_depth    = trial.suggest_int('max_depth', 5, 50)\n",
    "    min_samples_leaf = trial.suggest_int('min_samples_leaf', 1, 10)\n",
    "    ngram_min = trial.suggest_int('ngram_min', 1, 1)\n",
    "    ngram_max = trial.suggest_int('ngram_max', 1, 3)\n",
    "    max_feats = trial.suggest_int('max_features', 1000, 10000, step=1000)\n",
    "    \n",
    "    pipeline = Pipeline([\n",
    "        ('preproc', ColumnTransformer([\n",
    "            ('tfidf_moves', TfidfVectorizer(\n",
    "                token_pattern=r'(?u)\\b\\w+\\b',\n",
    "                ngram_range=(ngram_min, ngram_max),\n",
    "                max_features=max_feats\n",
    "            ), 'moves'),\n",
    "            ('moves_count', FunctionTransformer(count_moves, validate=False), ['moves']),\n",
    "            ('opening_ohe', OneHotEncoder(handle_unknown='ignore'), ['opening']),\n",
    "            ('term_ohe', OneHotEncoder(handle_unknown='ignore'), ['termination']),\n",
    "        ], remainder='drop')),\n",
    "        ('rf', RandomForestClassifier(\n",
    "            n_estimators=n_estimators,\n",
    "            max_depth=max_depth,\n",
    "            min_samples_leaf=min_samples_leaf,\n",
    "            n_jobs=-1,\n",
    "            random_state=42\n",
    "        ))\n",
    "    ])\n",
    "    \n",
    "    scores = cross_val_score(pipeline, X_train, y_train, cv=3, scoring='accuracy', n_jobs=-1)\n",
    "    return scores.mean()\n",
    "\n",
    "study = optuna.create_study(direction='maximize')\n",
    "study.optimize(objective, n_trials=30, timeout=600)\n",
    "\n",
    "best_params = study.best_trial.params\n",
    "print(\"Best params:\", best_params)\n",
    "\n",
    "final_pipeline = Pipeline([\n",
    "    ('preproc', ColumnTransformer([\n",
    "        ('tfidf_moves', TfidfVectorizer(\n",
    "            token_pattern=r'(?u)\\b\\w+\\b',\n",
    "            ngram_range=(best_params['ngram_min'], best_params['ngram_max']),\n",
    "            max_features=best_params['max_features']\n",
    "        ), 'moves'),\n",
    "        ('moves_count', FunctionTransformer(count_moves, validate=False), ['moves']),\n",
    "        ('opening_ohe', OneHotEncoder(handle_unknown='ignore'), ['opening']),\n",
    "        ('term_ohe', OneHotEncoder(handle_unknown='ignore'), ['termination']),\n",
    "    ], remainder='drop')),\n",
    "    ('rf', RandomForestClassifier(\n",
    "        n_estimators=best_params['n_estimators'],\n",
    "        max_depth=best_params['max_depth'],\n",
    "        min_samples_leaf=best_params['min_samples_leaf'],\n",
    "        n_jobs=-1,\n",
    "        random_state=42\n",
    "    ))\n",
    "])\n",
    "\n",
    "final_pipeline.fit(X_train, y_train)\n",
    "y_pred_final = final_pipeline.predict(X_test)\n",
    "print(\"Accuracy:\", accuracy_score(y_test, y_pred_final))"
   ]
  },
  {
   "cell_type": "markdown",
   "id": "9c876c2b-d43f-42c0-980d-18485b0e054e",
   "metadata": {},
   "source": [
    "Dans ce modèle, nous avons combiné plusieurs sources d’information pour maximiser la performance de prédiction : la pondération TF‑IDF des séquences de coups avec des n‑grammes (de 1 à 3), le nombre total de coups, l’ouverture et la terminaison de la partie. L’optimisation des hyperparamètres via Optuna a permis de régler finement la complexité du Random Forest et la granularité de la représentation TF‑IDF : 190 arbres suffisamment profonds (profondeur maximale de 19) et un minimum de neuf échantillons par feuille pour éviter le surapprentissage.\n",
    "\n",
    "Le choix d’un n‑gramme jusqu’à 3 permet de capturer non seulement les coups individuels, mais aussi les motifs courts de deux ou trois coups, susceptibles de refléter des ouvertures ou des enchaînements tactiques caractéristiques de certains niveaux de jeu. Limiter le nombre de caractéristiques à 2000 réduit le bruit et les dimensions superflues, améliorant ainsi la robustesse du classifieur. Les variables catégorielles (opening, termination) sont traitées en one‑hot, et le nombre de coups est injecté comme variable numérique simple, permettant au modèle de prendre en compte à la fois l’intensité stratégique et la durée de la partie.\n",
    "\n",
    "Malheuresement, le modèle atteint une accuracy de **39,9%**, soit un légere perte par rapport à la configuration TF‑IDF + Random Forest à 2000 arbres."
   ]
  },
  {
   "cell_type": "markdown",
   "id": "64b66dc0-090b-4f25-bc3d-7c56f6f3ce4c",
   "metadata": {},
   "source": [
    "### Approche 6 : Ajout d'une pipeline \"imbalance\" pour mieux suivre nos données hétérogènes"
   ]
  },
  {
   "cell_type": "code",
   "execution_count": 9,
   "id": "7ccf358e-b339-4e62-a894-f9b18c495baa",
   "metadata": {},
   "outputs": [
    {
     "name": "stderr",
     "output_type": "stream",
     "text": [
      "[Parallel(n_jobs=-1)]: Using backend ThreadingBackend with 8 concurrent workers.\n",
      "[Parallel(n_jobs=-1)]: Done  34 tasks      | elapsed:    4.1s\n",
      "[Parallel(n_jobs=-1)]: Done 184 tasks      | elapsed:   22.4s\n",
      "[Parallel(n_jobs=-1)]: Done 434 tasks      | elapsed:  1.0min\n",
      "[Parallel(n_jobs=-1)]: Done 784 tasks      | elapsed:  2.0min\n",
      "[Parallel(n_jobs=-1)]: Done 1234 tasks      | elapsed:  3.3min\n",
      "[Parallel(n_jobs=-1)]: Done 1784 tasks      | elapsed:  4.9min\n",
      "[Parallel(n_jobs=-1)]: Done 2000 out of 2000 | elapsed:  5.5min finished\n",
      "[Parallel(n_jobs=8)]: Using backend ThreadingBackend with 8 concurrent workers.\n",
      "[Parallel(n_jobs=8)]: Done  34 tasks      | elapsed:    0.0s\n",
      "[Parallel(n_jobs=8)]: Done 184 tasks      | elapsed:    0.1s\n",
      "[Parallel(n_jobs=8)]: Done 434 tasks      | elapsed:    0.2s\n",
      "[Parallel(n_jobs=8)]: Done 784 tasks      | elapsed:    0.3s\n",
      "[Parallel(n_jobs=8)]: Done 1234 tasks      | elapsed:    0.5s\n"
     ]
    },
    {
     "name": "stdout",
     "output_type": "stream",
     "text": [
      "Accuracy: 0.4073556797020484\n"
     ]
    },
    {
     "name": "stderr",
     "output_type": "stream",
     "text": [
      "[Parallel(n_jobs=8)]: Done 1784 tasks      | elapsed:    0.7s\n",
      "[Parallel(n_jobs=8)]: Done 2000 out of 2000 | elapsed:    0.8s finished\n"
     ]
    }
   ],
   "source": [
    "from imblearn.over_sampling import RandomOverSampler\n",
    "from imblearn.pipeline import Pipeline as ImbPipeline\n",
    "from sklearn.compose import ColumnTransformer\n",
    "from sklearn.feature_extraction.text import TfidfVectorizer\n",
    "from sklearn.preprocessing import OneHotEncoder, FunctionTransformer\n",
    "from sklearn.ensemble import RandomForestClassifier\n",
    "from sklearn.metrics import classification_report, accuracy_score\n",
    "\n",
    "def count_moves(df):\n",
    "    return df['moves'].str.split().apply(len).to_frame(name='moves_count')\n",
    "\n",
    "ros = RandomOverSampler(random_state=42)\n",
    "\n",
    "preprocessor = ColumnTransformer([\n",
    "    ('tfidf_moves', TfidfVectorizer(token_pattern=r'(?u)\\b\\w+\\b', max_features=5000), 'moves'),\n",
    "    ('moves_count', FunctionTransformer(count_moves, validate=False), ['moves']),\n",
    "    ('opening_ohe', OneHotEncoder(handle_unknown='ignore'), ['opening']),\n",
    "    ('term_ohe', OneHotEncoder(handle_unknown='ignore'), ['termination']),\n",
    "], remainder='drop')\n",
    "\n",
    "pipeline = ImbPipeline(steps=[\n",
    "    ('preproc',    preprocessor),\n",
    "    ('oversample', ros),\n",
    "    ('rf',         RandomForestClassifier(\n",
    "                       n_estimators=2000,\n",
    "                       class_weight='balanced_subsample',\n",
    "                       n_jobs=-1,\n",
    "                       random_state=42,\n",
    "                       verbose=1\n",
    "                   ))\n",
    "])\n",
    "\n",
    "pipeline.fit(X_train, y_train)\n",
    "\n",
    "y_pred = pipeline.predict(X_test)\n",
    "print(\"Accuracy:\", accuracy_score(y_test, y_pred))"
   ]
  },
  {
   "cell_type": "markdown",
   "id": "ee47b4e3-2858-4e21-a248-12057bf0b19b",
   "metadata": {},
   "source": [
    "Cette nouvelle version, qui combine une vectorisation TF‑IDF des coups, l’extraction du nombre de coups, l’encodage one‑hot de l’ouverture et de la fin de partie, un sur‑échantillonnage des classes minoritaires (RandomOverSampler) et un Random Forest pondéré (class_weight='balanced_subsample'), atteint une accuracy de 40,74 %. Cette légère amélioration (+0,4 pt) par rapport au meilleur modèle  (40,36 %) s’explique probablement par le fait que les classes rares (1000 et 2000) ont été mieux représentées pendant l’entraînement et ont ainsi mieux influencé la construction des arbres. Le classifieur est donc moins biaisé vers les tranches intermédiaires et parvient à repérer plus finement les profils extrêmes, tout en conservant une bonne discrimination globale. Cette performance montre que le couplage du rééchantillonnage et de la pondération des classes est une stratégie efficace pour corriger le déséquilibre de la distribution et améliorer la robustesse du modèle."
   ]
  },
  {
   "cell_type": "markdown",
   "id": "ce9c4fce-c3cd-46d3-bff2-2a4ffe874a89",
   "metadata": {},
   "source": [
    "## Conclusion\n",
    "\n",
    "Les performances obtenues restent très modestes, avec une accuracy plafonnant autour de **41%**. Plusieurs facteurs peuvent l’expliquer : d’une part, la distribution fortement déséquilibrée des tranches d’elo (classes intermédiaires largement majoritaires et extrêmes très rares) rend l’apprentissage intrinsèquement plus difficile et favorise un biais vers les catégories moyen‑populaires. D’autre part, la taille de l’échantillon—environ 10 000 parties—peut être insuffisante au regard de la complexité du problème, notamment si l’on souhaite capturer des motifs tactiques ou des patterns d’ouverture rares. Enfin, prédire la force de jeu à partir d’une simple séquence de coups reste un défi d'une certaine envergure.\n",
    "\n",
    "### Axes d’amélioration\n",
    "\n",
    "Pour progresser, il conviendrait d’abord d’élargir et diversifier le corpus (ce qui n'a pas été possible dans notre cas à cause de limitation techniques, laptop en surchauffe :( ). Sur le plan des features, l’ajout de métriques positionnelles (évaluation de la qualité des coups via un moteur d’échecs), de statistiques dynamiques (contrôle du centre, développement, structure de pions) ou de représentations séquentielles avancées (embeddings de séquences, modèles Transformer pré‑entraînés sur des logs de parties) pourrait apporter un gain substantiel. Enfin, explorer des architectures profondes (RNN, Transformers spécialisés), des techniques d’ensemble ou de méta‑apprentissage, ainsi que des stratégies de calibration et de pondération plus fines, aidera à tirer pleinement parti de la richesse et de la variabilité des données."
   ]
  }
 ],
 "metadata": {
  "kernelspec": {
   "display_name": "Python 3 (ipykernel)",
   "language": "python",
   "name": "python3"
  },
  "language_info": {
   "codemirror_mode": {
    "name": "ipython",
    "version": 3
   },
   "file_extension": ".py",
   "mimetype": "text/x-python",
   "name": "python",
   "nbconvert_exporter": "python",
   "pygments_lexer": "ipython3",
   "version": "3.11.8"
  }
 },
 "nbformat": 4,
 "nbformat_minor": 5
}
