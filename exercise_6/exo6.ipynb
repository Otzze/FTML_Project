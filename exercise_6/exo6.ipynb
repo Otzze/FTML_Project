{
 "cells": [
  {
   "cell_type": "code",
   "execution_count": 1,
   "id": "bd1c990c-e652-4795-811a-e86bd23eb6b6",
   "metadata": {},
   "outputs": [
    {
     "name": "stderr",
     "output_type": "stream",
     "text": [
      "2025-06-11 13:28:54.873436: I tensorflow/core/platform/cpu_feature_guard.cc:182] This TensorFlow binary is optimized to use available CPU instructions in performance-critical operations.\n",
      "To enable the following instructions: SSE3 SSE4.1 SSE4.2 AVX AVX2 FMA, in other operations, rebuild TensorFlow with the appropriate compiler flags.\n"
     ]
    }
   ],
   "source": [
    "import re\n",
    "import pandas as pd\n",
    "import numpy as np\n",
    "from sklearn.model_selection import train_test_split\n",
    "from sklearn.metrics import accuracy_score\n",
    "\n",
    "from sklearn.feature_extraction.text import CountVectorizer, TfidfVectorizer\n",
    "from sklearn.linear_model import LogisticRegression\n",
    "from sklearn.ensemble import RandomForestClassifier\n",
    "from sklearn.dummy import DummyClassifier\n",
    "\n",
    "import tensorflow as tf\n",
    "from tensorflow.keras.preprocessing.sequence import pad_sequences\n",
    "from tensorflow.keras.preprocessing.text import Tokenizer\n",
    "from tensorflow.keras import layers, models"
   ]
  },
  {
   "cell_type": "code",
   "execution_count": 78,
   "id": "c18e9dec-737a-4ac8-a9fd-209d29a63916",
   "metadata": {},
   "outputs": [],
   "source": [
    "LIMIT = 100000"
   ]
  },
  {
   "cell_type": "code",
   "execution_count": 79,
   "id": "95ad2acb-2cd5-49df-a5ff-9f90a6569ac8",
   "metadata": {},
   "outputs": [],
   "source": [
    "with open(\"lichess_db_standard_rated_2014-07.pgn\") as f:\n",
    "    i = 0\n",
    "    data = \"\"\n",
    "    for l in f:\n",
    "        i += 1\n",
    "        data += l\n",
    "        if i > LIMIT:\n",
    "            break\n",
    "\n",
    "moves = re.findall(\"\\[WhiteElo \\\"(\\d+)\\\"\\]\\n\\[BlackElo \\\"(\\d+)\\\"\\]\\n\\[WhiteRatingDiff \\\"[-+]?\\d+\\\"\\]\\n\\[BlackRatingDiff \\\"[-+]?\\d+\\\"\\]\\n\\[ECO \\\"[A-Z0-9]+\\\"\\]\\n\\[Opening \\\".*\\\"\\]\\n\\[TimeControl \\\".*\\\"\\]\\n\\[Termination \\\".*\\\"]\\n\\n(1\\..*)\\n\", data, re.MULTILINE)\n",
    "\n",
    "\n",
    "with open(\"games.csv\", \"w\") as f:\n",
    "    print(\"elo,moves\", file=f)\n",
    "    for m in moves:\n",
    "        mo = re.sub(r'\\{[^{}]*\\}', '', m[2]) #clean\n",
    "        mo = re.sub(r'\\d+\\.+ ', '', mo) #clean\n",
    "        print(f\"{(int(m[0])+int(m[1]))//2},{mo}\", file=f)\n",
    "        "
   ]
  },
  {
   "cell_type": "code",
   "execution_count": 80,
   "id": "f575d09f-e679-4d30-b647-49bfe23feeef",
   "metadata": {},
   "outputs": [
    {
     "data": {
      "text/plain": [
       "5320"
      ]
     },
     "execution_count": 80,
     "metadata": {},
     "output_type": "execute_result"
    }
   ],
   "source": [
    "len(moves)"
   ]
  },
  {
   "cell_type": "code",
   "execution_count": 2,
   "id": "79df2340-9e40-437b-85b0-d0f5f9dc5bfd",
   "metadata": {},
   "outputs": [],
   "source": [
    "df = pd.read_csv('games.csv')  "
   ]
  },
  {
   "cell_type": "code",
   "execution_count": 15,
   "id": "800aecfb-7ccb-4f80-b8cb-2264c1720292",
   "metadata": {},
   "outputs": [
    {
     "data": {
      "text/html": [
       "<div>\n",
       "<style scoped>\n",
       "    .dataframe tbody tr th:only-of-type {\n",
       "        vertical-align: middle;\n",
       "    }\n",
       "\n",
       "    .dataframe tbody tr th {\n",
       "        vertical-align: top;\n",
       "    }\n",
       "\n",
       "    .dataframe thead th {\n",
       "        text-align: right;\n",
       "    }\n",
       "</style>\n",
       "<table border=\"1\" class=\"dataframe\">\n",
       "  <thead>\n",
       "    <tr style=\"text-align: right;\">\n",
       "      <th></th>\n",
       "      <th>elo</th>\n",
       "      <th>moves</th>\n",
       "      <th>elo_slice</th>\n",
       "    </tr>\n",
       "  </thead>\n",
       "  <tbody>\n",
       "    <tr>\n",
       "      <th>0</th>\n",
       "      <td>1491</td>\n",
       "      <td>d3 d5 g3 e6 Bg2 Nf6 Nf3 Be7 O-O O-O Re1 a6 e4 ...</td>\n",
       "      <td>1400</td>\n",
       "    </tr>\n",
       "    <tr>\n",
       "      <th>1</th>\n",
       "      <td>1390</td>\n",
       "      <td>e4 e6 Nf3 c5 g3 a6 Bg2 Nc6 O-O d6 h3 Be7 Nc3 Q...</td>\n",
       "      <td>1200</td>\n",
       "    </tr>\n",
       "    <tr>\n",
       "      <th>2</th>\n",
       "      <td>1471</td>\n",
       "      <td>e4 g6 Nf3 Bg7 d4 e6 Nc3 Ne7 Be3 O-O Be2 d6 O-O...</td>\n",
       "      <td>1400</td>\n",
       "    </tr>\n",
       "    <tr>\n",
       "      <th>3</th>\n",
       "      <td>1725</td>\n",
       "      <td>e4 g6 d4 Bg7 e5 e6 f4 Ne7 Nf3 d5 Nc3 O-O Be3 N...</td>\n",
       "      <td>1600</td>\n",
       "    </tr>\n",
       "    <tr>\n",
       "      <th>4</th>\n",
       "      <td>1433</td>\n",
       "      <td>e4 c5 Nf3 Nc6 Bc4 Nf6 Nc3 e5 O-O d6 a3 Nd4 Nxd...</td>\n",
       "      <td>1400</td>\n",
       "    </tr>\n",
       "    <tr>\n",
       "      <th>...</th>\n",
       "      <td>...</td>\n",
       "      <td>...</td>\n",
       "      <td>...</td>\n",
       "    </tr>\n",
       "    <tr>\n",
       "      <th>5315</th>\n",
       "      <td>1434</td>\n",
       "      <td>e4 e6 Nf3 d6 e5 dxe5 Nxe5 Bd6 Nxf7 Kxf7 Qh5+ g...</td>\n",
       "      <td>1400</td>\n",
       "    </tr>\n",
       "    <tr>\n",
       "      <th>5316</th>\n",
       "      <td>1739</td>\n",
       "      <td>d4 d5 c4 c6 cxd5 Qxd5 Nc3 Qd8 Bf4 Nf6 Nf3 Nd5 ...</td>\n",
       "      <td>1600</td>\n",
       "    </tr>\n",
       "    <tr>\n",
       "      <th>5317</th>\n",
       "      <td>1840</td>\n",
       "      <td>e4 d5 e5 Bf5 d4 e6 c3 c5 Be3 Nc6 dxc5 Nxe5 f4 ...</td>\n",
       "      <td>1800</td>\n",
       "    </tr>\n",
       "    <tr>\n",
       "      <th>5318</th>\n",
       "      <td>1600</td>\n",
       "      <td>d4 e6 Nc3 b6 Nf3 Bb7 e3 f5 Bd3 Bb4 Bd2 Nf6 a3 ...</td>\n",
       "      <td>1600</td>\n",
       "    </tr>\n",
       "    <tr>\n",
       "      <th>5319</th>\n",
       "      <td>1272</td>\n",
       "      <td>e4 d6 d4 f6 Nf3 Bg4 Be2 Bxf3 Bxf3 e5 d5 Ne7 O-...</td>\n",
       "      <td>1200</td>\n",
       "    </tr>\n",
       "  </tbody>\n",
       "</table>\n",
       "<p>5320 rows × 3 columns</p>\n",
       "</div>"
      ],
      "text/plain": [
       "       elo                                              moves  elo_slice\n",
       "0     1491  d3 d5 g3 e6 Bg2 Nf6 Nf3 Be7 O-O O-O Re1 a6 e4 ...       1400\n",
       "1     1390  e4 e6 Nf3 c5 g3 a6 Bg2 Nc6 O-O d6 h3 Be7 Nc3 Q...       1200\n",
       "2     1471  e4 g6 Nf3 Bg7 d4 e6 Nc3 Ne7 Be3 O-O Be2 d6 O-O...       1400\n",
       "3     1725  e4 g6 d4 Bg7 e5 e6 f4 Ne7 Nf3 d5 Nc3 O-O Be3 N...       1600\n",
       "4     1433  e4 c5 Nf3 Nc6 Bc4 Nf6 Nc3 e5 O-O d6 a3 Nd4 Nxd...       1400\n",
       "...    ...                                                ...        ...\n",
       "5315  1434  e4 e6 Nf3 d6 e5 dxe5 Nxe5 Bd6 Nxf7 Kxf7 Qh5+ g...       1400\n",
       "5316  1739  d4 d5 c4 c6 cxd5 Qxd5 Nc3 Qd8 Bf4 Nf6 Nf3 Nd5 ...       1600\n",
       "5317  1840  e4 d5 e5 Bf5 d4 e6 c3 c5 Be3 Nc6 dxc5 Nxe5 f4 ...       1800\n",
       "5318  1600  d4 e6 Nc3 b6 Nf3 Bb7 e3 f5 Bd3 Bb4 Bd2 Nf6 a3 ...       1600\n",
       "5319  1272  e4 d6 d4 f6 Nf3 Bg4 Be2 Bxf3 Bxf3 e5 d5 Ne7 O-...       1200\n",
       "\n",
       "[5320 rows x 3 columns]"
      ]
     },
     "execution_count": 15,
     "metadata": {},
     "output_type": "execute_result"
    }
   ],
   "source": [
    "df['elo_slice'] = (df['elo'] // 200) * 200\n",
    "\n",
    "# Filter to reasonable range (e.g. 800–2800)\n",
    "df = df[(df['elo_slice'] >= 800) & (df['elo_slice'] <= 2800)]\n",
    "\n",
    "df"
   ]
  },
  {
   "cell_type": "code",
   "execution_count": 16,
   "id": "c3de6da3-8d9d-4b41-ba87-c2217b879c12",
   "metadata": {},
   "outputs": [
    {
     "name": "stdout",
     "output_type": "stream",
     "text": [
      "Kept 6 slices; 5319 games remain.\n"
     ]
    }
   ],
   "source": [
    "slice_counts = df['elo_slice'].value_counts().sort_index()\n",
    "min_samples = 2  # or bump to 5 if you like\n",
    "good_slices = slice_counts[slice_counts >= min_samples].index\n",
    "df_filtered = df[df['elo_slice'].isin(good_slices)].copy()\n",
    "print(f\"Kept {len(good_slices)} slices; {len(df_filtered)} games remain.\")"
   ]
  },
  {
   "cell_type": "code",
   "execution_count": 17,
   "id": "6ae12cc4-5f6d-4460-89ba-0c3e4d87a861",
   "metadata": {},
   "outputs": [
    {
     "name": "stdout",
     "output_type": "stream",
     "text": [
      "Train slice counts:\n",
      " elo_slice\n",
      "1400    1610\n",
      "1600    1357\n",
      "1200     671\n",
      "1800     458\n",
      "1000      80\n",
      "2000      79\n",
      "Name: count, dtype: int64\n",
      "Test  slice counts:\n",
      " elo_slice\n",
      "1400    402\n",
      "1600    339\n",
      "1200    168\n",
      "1800    115\n",
      "1000     20\n",
      "2000     20\n",
      "Name: count, dtype: int64\n"
     ]
    }
   ],
   "source": [
    "# Cell Z: Re-split with only adequate classes\n",
    "X = df_filtered['moves']\n",
    "y = df_filtered['elo_slice']\n",
    "\n",
    "X_train, X_test, y_train, y_test = train_test_split(\n",
    "    X, y,\n",
    "    test_size=0.2,\n",
    "    random_state=42,\n",
    "    stratify=y\n",
    ")\n",
    "\n",
    "print(\"Train slice counts:\\n\", y_train.value_counts())\n",
    "print(\"Test  slice counts:\\n\", y_test.value_counts())\n"
   ]
  },
  {
   "cell_type": "markdown",
   "id": "057c3c34-c3ae-46eb-9e5a-d1ea402a2325",
   "metadata": {},
   "source": [
    "## Approach 1: Dumb Baseline (Most Frequent Class)\n",
    "\n",
    "A DummyClassifier that always predicts the most frequent slice."
   ]
  },
  {
   "cell_type": "code",
   "execution_count": 18,
   "id": "dcb43125-d711-4884-89e2-df0b3641efe9",
   "metadata": {},
   "outputs": [
    {
     "name": "stdout",
     "output_type": "stream",
     "text": [
      "Baseline accuracy: 0.37781954887218044\n"
     ]
    }
   ],
   "source": [
    "dummy = DummyClassifier(strategy='most_frequent')\n",
    "dummy.fit(X_train.values.reshape(-1,1), y_train)\n",
    "y_pred = dummy.predict(X_test.values.reshape(-1,1))\n",
    "print(\"Baseline accuracy:\", accuracy_score(y_test, y_pred))"
   ]
  },
  {
   "cell_type": "markdown",
   "id": "d3aae885-44b6-40a4-85aa-6442d2a04fd8",
   "metadata": {},
   "source": [
    "## Approach 2: Simple Feature – Number of Moves\n",
    "\n",
    "Use just the count of moves as a single feature."
   ]
  },
  {
   "cell_type": "code",
   "execution_count": 19,
   "id": "880ad505-3fc0-4bcd-9fa0-b1debfa33ddf",
   "metadata": {},
   "outputs": [
    {
     "name": "stdout",
     "output_type": "stream",
     "text": [
      "Num‐moves accuracy: 0.37781954887218044\n"
     ]
    }
   ],
   "source": [
    "def count_moves(san_str):\n",
    "    return len(san_str.split())\n",
    "\n",
    "X_train_len = X_train.apply(count_moves).to_frame('num_moves')\n",
    "X_test_len  = X_test.apply(count_moves).to_frame('num_moves')\n",
    "\n",
    "lr_len = LogisticRegression(max_iter=1000)\n",
    "lr_len.fit(X_train_len, y_train)\n",
    "y_pred = lr_len.predict(X_test_len)\n",
    "print(\"Num‐moves accuracy:\", accuracy_score(y_test, y_pred))\n"
   ]
  },
  {
   "cell_type": "markdown",
   "id": "875be2a0-b084-43b7-932f-c30e83db190b",
   "metadata": {},
   "source": [
    "## Approach 3: Bag-of-Moves (CountVectorizer) + Logistic Regression\n",
    "\n",
    "Treat the SAN move list as text and vectorize."
   ]
  },
  {
   "cell_type": "code",
   "execution_count": 20,
   "id": "e285aafd-e486-4bec-8f5f-2ef948736e78",
   "metadata": {},
   "outputs": [
    {
     "name": "stdout",
     "output_type": "stream",
     "text": [
      "BoW + LR accuracy: 0.35902255639097747\n"
     ]
    }
   ],
   "source": [
    "vect = CountVectorizer(token_pattern=r\"[^ ]+\")\n",
    "Xtr_counts = vect.fit_transform(X_train)\n",
    "Xte_counts = vect.transform(X_test)\n",
    "\n",
    "lr_bow = LogisticRegression(max_iter=1000)\n",
    "lr_bow.fit(Xtr_counts, y_train)\n",
    "y_pred = lr_bow.predict(Xte_counts)\n",
    "print(\"BoW + LR accuracy:\", accuracy_score(y_test, y_pred))\n"
   ]
  },
  {
   "cell_type": "markdown",
   "id": "878bf6e8-dbd9-43a1-b270-2338e9972845",
   "metadata": {},
   "source": [
    "## Approach 4: TF-IDF + Random Forest\n",
    "\n",
    "TF-IDF weighing and a tree-based model."
   ]
  },
  {
   "cell_type": "code",
   "execution_count": 21,
   "id": "0c716903-2a43-4562-898a-fd6523a3dd2c",
   "metadata": {},
   "outputs": [
    {
     "name": "stdout",
     "output_type": "stream",
     "text": [
      "TF-IDF + RF accuracy: 0.3881578947368421\n"
     ]
    }
   ],
   "source": [
    "tfidf = TfidfVectorizer(token_pattern=r\"[^ ]+\")\n",
    "Xtr_tfidf = tfidf.fit_transform(X_train)\n",
    "Xte_tfidf = tfidf.transform(X_test)\n",
    "\n",
    "rf = RandomForestClassifier(n_estimators=100, random_state=42)\n",
    "rf.fit(Xtr_tfidf, y_train)\n",
    "y_pred = rf.predict(Xte_tfidf)\n",
    "print(\"TF-IDF + RF accuracy:\", accuracy_score(y_test, y_pred))\n"
   ]
  },
  {
   "cell_type": "markdown",
   "id": "3f1c29c9-8e15-4c70-b074-983191c7a59b",
   "metadata": {},
   "source": [
    "## Approach 5: Simple RNN (LSTM) on Move Sequences\n",
    "\n",
    "Tokenize moves, pad sequences, and train an LSTM classifier in Keras.\n"
   ]
  },
  {
   "cell_type": "code",
   "execution_count": 22,
   "id": "281356e6-fd7d-4938-ab89-e3c58f295c1b",
   "metadata": {},
   "outputs": [
    {
     "name": "stdout",
     "output_type": "stream",
     "text": [
      "Epoch 1/30\n",
      "60/60 [==============================] - 11s 123ms/step - loss: 1.4810 - accuracy: 0.3591 - val_loss: 1.4614 - val_accuracy: 0.3826\n",
      "Epoch 2/30\n",
      "60/60 [==============================] - 7s 112ms/step - loss: 1.4000 - accuracy: 0.3931 - val_loss: 1.4432 - val_accuracy: 0.3803\n",
      "Epoch 3/30\n",
      "60/60 [==============================] - 9s 142ms/step - loss: 1.3547 - accuracy: 0.4275 - val_loss: 1.4095 - val_accuracy: 0.3756\n",
      "Epoch 4/30\n",
      "60/60 [==============================] - 9s 147ms/step - loss: 1.2724 - accuracy: 0.4693 - val_loss: 1.4195 - val_accuracy: 0.3568\n",
      "Epoch 5/30\n",
      "60/60 [==============================] - 9s 143ms/step - loss: 1.1928 - accuracy: 0.5030 - val_loss: 1.4357 - val_accuracy: 0.3850\n",
      "Epoch 6/30\n",
      "60/60 [==============================] - 9s 144ms/step - loss: 1.1314 - accuracy: 0.5356 - val_loss: 1.5521 - val_accuracy: 0.3592\n",
      "Epoch 7/30\n",
      "60/60 [==============================] - 11s 176ms/step - loss: 1.0708 - accuracy: 0.5568 - val_loss: 1.5526 - val_accuracy: 0.3615\n",
      "Epoch 8/30\n",
      "60/60 [==============================] - 11s 179ms/step - loss: 0.9838 - accuracy: 0.6067 - val_loss: 1.6376 - val_accuracy: 0.3920\n",
      "Epoch 9/30\n",
      "60/60 [==============================] - 11s 178ms/step - loss: 0.9221 - accuracy: 0.6323 - val_loss: 1.8843 - val_accuracy: 0.3451\n",
      "Epoch 10/30\n",
      "60/60 [==============================] - 11s 184ms/step - loss: 0.8545 - accuracy: 0.6699 - val_loss: 1.9383 - val_accuracy: 0.3638\n",
      "Epoch 11/30\n",
      "60/60 [==============================] - 12s 193ms/step - loss: 0.7943 - accuracy: 0.6890 - val_loss: 1.8881 - val_accuracy: 0.3451\n",
      "Epoch 12/30\n",
      "60/60 [==============================] - 11s 178ms/step - loss: 0.7235 - accuracy: 0.7260 - val_loss: 2.0012 - val_accuracy: 0.3451\n",
      "Epoch 13/30\n",
      "60/60 [==============================] - 12s 198ms/step - loss: 0.6389 - accuracy: 0.7673 - val_loss: 2.2152 - val_accuracy: 0.3474\n",
      "Epoch 14/30\n",
      "60/60 [==============================] - 13s 220ms/step - loss: 0.5740 - accuracy: 0.7963 - val_loss: 2.5653 - val_accuracy: 0.3192\n",
      "Epoch 15/30\n",
      "60/60 [==============================] - 11s 182ms/step - loss: 0.5496 - accuracy: 0.8065 - val_loss: 2.6486 - val_accuracy: 0.3052\n",
      "Epoch 16/30\n",
      "60/60 [==============================] - 12s 195ms/step - loss: 0.4751 - accuracy: 0.8344 - val_loss: 2.4586 - val_accuracy: 0.3333\n",
      "Epoch 17/30\n",
      "60/60 [==============================] - 12s 199ms/step - loss: 0.4174 - accuracy: 0.8582 - val_loss: 2.5591 - val_accuracy: 0.3052\n",
      "Epoch 18/30\n",
      "60/60 [==============================] - 11s 181ms/step - loss: 0.3825 - accuracy: 0.8726 - val_loss: 2.9550 - val_accuracy: 0.2958\n",
      "Epoch 19/30\n",
      "60/60 [==============================] - 11s 178ms/step - loss: 0.3556 - accuracy: 0.8848 - val_loss: 2.7314 - val_accuracy: 0.3216\n",
      "Epoch 20/30\n",
      "60/60 [==============================] - 10s 175ms/step - loss: 0.3423 - accuracy: 0.8887 - val_loss: 3.0274 - val_accuracy: 0.2958\n",
      "Epoch 21/30\n",
      "60/60 [==============================] - 11s 182ms/step - loss: 0.2994 - accuracy: 0.9023 - val_loss: 3.1109 - val_accuracy: 0.3333\n",
      "Epoch 22/30\n",
      "60/60 [==============================] - 11s 175ms/step - loss: 0.2745 - accuracy: 0.9115 - val_loss: 3.1178 - val_accuracy: 0.3169\n",
      "Epoch 23/30\n",
      "60/60 [==============================] - 11s 175ms/step - loss: 0.2773 - accuracy: 0.9091 - val_loss: 3.0605 - val_accuracy: 0.3333\n",
      "Epoch 24/30\n",
      "60/60 [==============================] - 11s 177ms/step - loss: 0.2281 - accuracy: 0.9235 - val_loss: 3.5377 - val_accuracy: 0.3310\n",
      "Epoch 25/30\n",
      "60/60 [==============================] - 11s 183ms/step - loss: 0.1884 - accuracy: 0.9420 - val_loss: 3.6064 - val_accuracy: 0.3146\n",
      "Epoch 26/30\n",
      "60/60 [==============================] - 11s 180ms/step - loss: 0.2066 - accuracy: 0.9326 - val_loss: 3.4037 - val_accuracy: 0.3404\n",
      "Epoch 27/30\n",
      "60/60 [==============================] - 11s 188ms/step - loss: 0.2077 - accuracy: 0.9318 - val_loss: 3.8407 - val_accuracy: 0.2958\n",
      "Epoch 28/30\n",
      "60/60 [==============================] - 12s 199ms/step - loss: 0.2049 - accuracy: 0.9324 - val_loss: 3.5035 - val_accuracy: 0.3146\n",
      "Epoch 29/30\n",
      "60/60 [==============================] - 11s 178ms/step - loss: 0.1614 - accuracy: 0.9493 - val_loss: 3.8469 - val_accuracy: 0.3263\n",
      "Epoch 30/30\n",
      "60/60 [==============================] - 11s 178ms/step - loss: 0.1392 - accuracy: 0.9582 - val_loss: 4.2634 - val_accuracy: 0.2864\n",
      "34/34 [==============================] - 1s 34ms/step - loss: 4.0657 - accuracy: 0.3205\n",
      "LSTM test accuracy: 0.32048872113227844\n"
     ]
    }
   ],
   "source": [
    "# Cell 7: LSTM Sequence Model\n",
    "# 1) Tokenize\n",
    "tokenizer = Tokenizer(lower=False, filters='')\n",
    "tokenizer.fit_on_texts(X_train)\n",
    "Xtr_seq = tokenizer.texts_to_sequences(X_train)\n",
    "Xte_seq = tokenizer.texts_to_sequences(X_test)\n",
    "\n",
    "# 2) Pad\n",
    "maxlen = 200  # adjust based on distribution\n",
    "Xtr_pad = pad_sequences(Xtr_seq, maxlen=maxlen, padding='post')\n",
    "Xte_pad = pad_sequences(Xte_seq, maxlen=maxlen, padding='post')\n",
    "\n",
    "# 3) Encode labels\n",
    "from sklearn.preprocessing import LabelEncoder\n",
    "le = LabelEncoder()\n",
    "ytr_enc = le.fit_transform(y_train)\n",
    "yte_enc = le.transform(y_test)\n",
    "num_classes = len(le.classes_)\n",
    "\n",
    "# 4) Build model\n",
    "model = models.Sequential([\n",
    "    layers.Embedding(input_dim=len(tokenizer.word_index)+1, output_dim=64, input_length=maxlen),\n",
    "    layers.Bidirectional(layers.LSTM(64)),\n",
    "    layers.Dense(64, activation='relu'),\n",
    "    layers.Dense(num_classes, activation='softmax')\n",
    "])\n",
    "model.compile(loss='sparse_categorical_crossentropy', optimizer='adam', metrics=['accuracy'])\n",
    "\n",
    "# 5) Train & evaluate\n",
    "model.fit(Xtr_pad, ytr_enc, epochs=30, batch_size=64, validation_split=0.1)\n",
    "loss, acc = model.evaluate(Xte_pad, yte_enc)\n",
    "print(\"LSTM test accuracy:\", acc)\n"
   ]
  },
  {
   "cell_type": "markdown",
   "id": "3caa8888-9da8-4bb1-8c3b-dca0ba98ae79",
   "metadata": {},
   "source": [
    "## Approach 6: Transformer Encoder\n",
    "\n",
    "A simple Transformer encoder (via Keras `TextVectorization` + `TransformerBlock`)."
   ]
  },
  {
   "cell_type": "code",
   "execution_count": 25,
   "id": "2f639d64-a740-460c-9dc3-2ca3220d1253",
   "metadata": {},
   "outputs": [
    {
     "name": "stdout",
     "output_type": "stream",
     "text": [
      "Epoch 1/50\n",
      "30/30 [==============================] - 19s 594ms/step - loss: 1.4481 - accuracy: 0.3578 - val_loss: 1.4623 - val_accuracy: 0.3826\n",
      "Epoch 2/50\n",
      "30/30 [==============================] - 17s 575ms/step - loss: 1.4010 - accuracy: 0.3933 - val_loss: 1.4573 - val_accuracy: 0.3873\n",
      "Epoch 3/50\n",
      "30/30 [==============================] - 20s 652ms/step - loss: 1.3939 - accuracy: 0.3902 - val_loss: 1.4510 - val_accuracy: 0.4014\n",
      "Epoch 4/50\n",
      "30/30 [==============================] - 20s 650ms/step - loss: 1.3814 - accuracy: 0.4032 - val_loss: 1.4456 - val_accuracy: 0.4014\n",
      "Epoch 5/50\n",
      "30/30 [==============================] - 19s 637ms/step - loss: 1.3530 - accuracy: 0.4338 - val_loss: 1.4847 - val_accuracy: 0.3427\n",
      "Epoch 6/50\n",
      "30/30 [==============================] - 20s 681ms/step - loss: 1.3298 - accuracy: 0.4346 - val_loss: 1.4397 - val_accuracy: 0.3967\n",
      "Epoch 7/50\n",
      "30/30 [==============================] - 24s 784ms/step - loss: 1.2915 - accuracy: 0.4557 - val_loss: 1.4281 - val_accuracy: 0.3873\n",
      "Epoch 8/50\n",
      "30/30 [==============================] - 20s 675ms/step - loss: 1.2748 - accuracy: 0.4785 - val_loss: 1.4714 - val_accuracy: 0.3944\n",
      "Epoch 9/50\n",
      "30/30 [==============================] - 20s 676ms/step - loss: 1.2406 - accuracy: 0.4884 - val_loss: 1.4705 - val_accuracy: 0.3521\n",
      "Epoch 10/50\n",
      "30/30 [==============================] - 20s 669ms/step - loss: 1.1903 - accuracy: 0.5116 - val_loss: 1.4977 - val_accuracy: 0.3732\n",
      "Epoch 11/50\n",
      "30/30 [==============================] - 20s 664ms/step - loss: 1.1474 - accuracy: 0.5414 - val_loss: 1.5718 - val_accuracy: 0.3685\n",
      "Epoch 12/50\n",
      "30/30 [==============================] - 17s 568ms/step - loss: 1.0869 - accuracy: 0.5709 - val_loss: 1.6626 - val_accuracy: 0.3920\n",
      "Epoch 13/50\n",
      "30/30 [==============================] - 18s 599ms/step - loss: 1.0164 - accuracy: 0.6009 - val_loss: 1.6583 - val_accuracy: 0.3850\n",
      "Epoch 14/50\n",
      "30/30 [==============================] - 18s 593ms/step - loss: 0.9574 - accuracy: 0.6177 - val_loss: 1.7872 - val_accuracy: 0.3826\n",
      "Epoch 15/50\n",
      "30/30 [==============================] - 21s 695ms/step - loss: 0.8951 - accuracy: 0.6506 - val_loss: 2.0627 - val_accuracy: 0.3568\n",
      "Epoch 16/50\n",
      "30/30 [==============================] - 22s 735ms/step - loss: 0.8356 - accuracy: 0.6725 - val_loss: 1.9739 - val_accuracy: 0.3498\n",
      "Epoch 17/50\n",
      "30/30 [==============================] - 21s 688ms/step - loss: 0.7753 - accuracy: 0.6921 - val_loss: 2.1985 - val_accuracy: 0.3286\n",
      "Epoch 18/50\n",
      "30/30 [==============================] - 21s 687ms/step - loss: 0.7457 - accuracy: 0.7096 - val_loss: 2.2155 - val_accuracy: 0.3521\n",
      "Epoch 19/50\n",
      "30/30 [==============================] - 21s 683ms/step - loss: 0.7048 - accuracy: 0.7221 - val_loss: 2.3208 - val_accuracy: 0.3568\n",
      "Epoch 20/50\n",
      "30/30 [==============================] - 21s 685ms/step - loss: 0.6928 - accuracy: 0.7284 - val_loss: 2.6016 - val_accuracy: 0.3357\n",
      "Epoch 21/50\n",
      "30/30 [==============================] - 21s 688ms/step - loss: 0.6519 - accuracy: 0.7433 - val_loss: 2.5267 - val_accuracy: 0.3521\n",
      "Epoch 22/50\n",
      "30/30 [==============================] - 20s 679ms/step - loss: 0.6275 - accuracy: 0.7527 - val_loss: 2.6925 - val_accuracy: 0.3498\n",
      "Epoch 23/50\n",
      "30/30 [==============================] - 20s 681ms/step - loss: 0.6159 - accuracy: 0.7561 - val_loss: 2.8677 - val_accuracy: 0.3451\n",
      "Epoch 24/50\n",
      "30/30 [==============================] - 21s 685ms/step - loss: 0.6208 - accuracy: 0.7451 - val_loss: 2.6562 - val_accuracy: 0.3333\n",
      "Epoch 25/50\n",
      "30/30 [==============================] - 20s 682ms/step - loss: 0.5824 - accuracy: 0.7642 - val_loss: 3.1471 - val_accuracy: 0.3427\n",
      "Epoch 26/50\n",
      "30/30 [==============================] - 20s 678ms/step - loss: 0.5678 - accuracy: 0.7697 - val_loss: 3.0059 - val_accuracy: 0.3263\n",
      "Epoch 27/50\n",
      "30/30 [==============================] - 21s 692ms/step - loss: 0.5441 - accuracy: 0.7827 - val_loss: 3.2235 - val_accuracy: 0.3239\n",
      "Epoch 28/50\n",
      "30/30 [==============================] - 20s 679ms/step - loss: 0.5073 - accuracy: 0.8005 - val_loss: 3.2485 - val_accuracy: 0.3192\n",
      "Epoch 29/50\n",
      "30/30 [==============================] - 20s 680ms/step - loss: 0.4920 - accuracy: 0.8020 - val_loss: 3.5593 - val_accuracy: 0.3310\n",
      "Epoch 30/50\n",
      "30/30 [==============================] - 21s 687ms/step - loss: 0.4883 - accuracy: 0.7992 - val_loss: 3.4259 - val_accuracy: 0.3146\n",
      "Epoch 31/50\n",
      "30/30 [==============================] - 21s 702ms/step - loss: 0.4650 - accuracy: 0.8211 - val_loss: 3.6528 - val_accuracy: 0.3169\n",
      "Epoch 32/50\n",
      "30/30 [==============================] - 20s 681ms/step - loss: 0.4516 - accuracy: 0.8229 - val_loss: 3.7389 - val_accuracy: 0.3192\n",
      "Epoch 33/50\n",
      "30/30 [==============================] - 21s 689ms/step - loss: 0.4269 - accuracy: 0.8261 - val_loss: 3.7119 - val_accuracy: 0.3216\n",
      "Epoch 34/50\n",
      "30/30 [==============================] - 20s 682ms/step - loss: 0.4012 - accuracy: 0.8376 - val_loss: 3.9154 - val_accuracy: 0.3169\n",
      "Epoch 35/50\n",
      "30/30 [==============================] - 20s 682ms/step - loss: 0.3970 - accuracy: 0.8454 - val_loss: 3.9143 - val_accuracy: 0.3263\n",
      "Epoch 36/50\n",
      "30/30 [==============================] - 21s 686ms/step - loss: 0.3852 - accuracy: 0.8446 - val_loss: 4.2222 - val_accuracy: 0.3169\n",
      "Epoch 37/50\n",
      "30/30 [==============================] - 20s 678ms/step - loss: 0.3744 - accuracy: 0.8498 - val_loss: 4.1228 - val_accuracy: 0.3239\n",
      "Epoch 38/50\n",
      "30/30 [==============================] - 20s 675ms/step - loss: 0.3773 - accuracy: 0.8537 - val_loss: 4.4123 - val_accuracy: 0.3052\n",
      "Epoch 39/50\n",
      "30/30 [==============================] - 21s 693ms/step - loss: 0.3444 - accuracy: 0.8676 - val_loss: 4.3645 - val_accuracy: 0.3122\n",
      "Epoch 40/50\n",
      "30/30 [==============================] - 20s 684ms/step - loss: 0.3246 - accuracy: 0.8726 - val_loss: 4.5587 - val_accuracy: 0.3286\n",
      "Epoch 41/50\n",
      "30/30 [==============================] - 20s 680ms/step - loss: 0.3199 - accuracy: 0.8741 - val_loss: 4.6012 - val_accuracy: 0.3099\n",
      "Epoch 42/50\n",
      "30/30 [==============================] - 21s 685ms/step - loss: 0.3239 - accuracy: 0.8660 - val_loss: 5.0342 - val_accuracy: 0.3099\n",
      "Epoch 43/50\n",
      "30/30 [==============================] - 21s 685ms/step - loss: 0.3091 - accuracy: 0.8746 - val_loss: 4.8133 - val_accuracy: 0.2934\n",
      "Epoch 44/50\n",
      "30/30 [==============================] - 20s 677ms/step - loss: 0.2912 - accuracy: 0.8887 - val_loss: 4.8910 - val_accuracy: 0.3028\n",
      "Epoch 45/50\n",
      "30/30 [==============================] - 21s 685ms/step - loss: 0.2862 - accuracy: 0.8851 - val_loss: 4.9280 - val_accuracy: 0.3239\n",
      "Epoch 46/50\n",
      "30/30 [==============================] - 21s 685ms/step - loss: 0.2677 - accuracy: 0.8961 - val_loss: 5.0890 - val_accuracy: 0.3052\n",
      "Epoch 47/50\n",
      "30/30 [==============================] - 21s 686ms/step - loss: 0.2360 - accuracy: 0.9073 - val_loss: 5.1923 - val_accuracy: 0.3052\n",
      "Epoch 48/50\n",
      "30/30 [==============================] - 21s 686ms/step - loss: 0.2177 - accuracy: 0.9169 - val_loss: 5.4268 - val_accuracy: 0.3099\n",
      "Epoch 49/50\n",
      "30/30 [==============================] - 20s 682ms/step - loss: 0.2027 - accuracy: 0.9222 - val_loss: 5.7746 - val_accuracy: 0.2934\n",
      "Epoch 50/50\n",
      "30/30 [==============================] - 21s 694ms/step - loss: 0.1870 - accuracy: 0.9297 - val_loss: 5.9862 - val_accuracy: 0.3263\n",
      "34/34 [==============================] - 2s 62ms/step - loss: 6.2658 - accuracy: 0.3055\n",
      "Transformer test accuracy: 0.3054511249065399\n"
     ]
    }
   ],
   "source": [
    "# Cell 8: Transformer-Based Model (sketch; may require more tuning)\n",
    "from tensorflow.keras.layers import TextVectorization\n",
    "from tensorflow.keras import Input\n",
    "\n",
    "# Vectorize text\n",
    "max_tokens = 20000\n",
    "vectorizer = TextVectorization(max_tokens=max_tokens, output_sequence_length=maxlen, split='whitespace')\n",
    "vectorizer.adapt(X_train)\n",
    "\n",
    "# Define a Transformer block\n",
    "class TransformerBlock(layers.Layer):\n",
    "    def __init__(self, embed_dim, num_heads, ff_dim, rate=0.1):\n",
    "        super().__init__()\n",
    "        self.att = layers.MultiHeadAttention(num_heads=num_heads, key_dim=embed_dim)\n",
    "        self.ffn = models.Sequential([\n",
    "            layers.Dense(ff_dim, activation='relu'),\n",
    "            layers.Dense(embed_dim),\n",
    "        ])\n",
    "        self.layernorm1 = layers.LayerNormalization(epsilon=1e-6)\n",
    "        self.layernorm2 = layers.LayerNormalization(epsilon=1e-6)\n",
    "        self.dropout1 = layers.Dropout(rate)\n",
    "        self.dropout2 = layers.Dropout(rate)\n",
    "    def call(self, inputs, training):\n",
    "        attn_output = self.att(inputs, inputs)\n",
    "        attn_output = self.dropout1(attn_output, training=training)\n",
    "        out1 = self.layernorm1(inputs + attn_output)\n",
    "        ffn_output = self.ffn(out1)\n",
    "        ffn_output = self.dropout2(ffn_output, training=training)\n",
    "        return self.layernorm2(out1 + ffn_output)\n",
    "\n",
    "# Build model\n",
    "inputs = Input(shape=(1,), dtype=tf.string)\n",
    "x = vectorizer(inputs)\n",
    "x = layers.Embedding(max_tokens, 64)(x)\n",
    "x = TransformerBlock(embed_dim=64, num_heads=4, ff_dim=128)(x)\n",
    "x = layers.GlobalAveragePooling1D()(x)\n",
    "x = layers.Dense(64, activation='relu')(x)\n",
    "outputs = layers.Dense(num_classes, activation='softmax')(x)\n",
    "tfm_model = models.Model(inputs, outputs)\n",
    "tfm_model.compile(loss='sparse_categorical_crossentropy', optimizer='adam', metrics=['accuracy'])\n",
    "\n",
    "# Train & eval\n",
    "tfm_model.fit(X_train.values, ytr_enc, epochs=50, batch_size=128, validation_split=0.1)\n",
    "loss, acc = tfm_model.evaluate(X_test.values, yte_enc)\n",
    "print(\"Transformer test accuracy:\", acc)\n"
   ]
  },
  {
   "cell_type": "code",
   "execution_count": null,
   "id": "a281f932-6643-4d6b-acf3-ee0fb37a10bf",
   "metadata": {},
   "outputs": [],
   "source": []
  }
 ],
 "metadata": {
  "kernelspec": {
   "display_name": "Python 3 (ipykernel)",
   "language": "python",
   "name": "python3"
  },
  "language_info": {
   "codemirror_mode": {
    "name": "ipython",
    "version": 3
   },
   "file_extension": ".py",
   "mimetype": "text/x-python",
   "name": "python",
   "nbconvert_exporter": "python",
   "pygments_lexer": "ipython3",
   "version": "3.11.8"
  }
 },
 "nbformat": 4,
 "nbformat_minor": 5
}
