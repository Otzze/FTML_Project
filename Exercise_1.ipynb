{
 "cells": [
  {
   "cell_type": "markdown",
   "id": "85908b57",
   "metadata": {},
   "source": [
    "# Exercise 1: Bayes Estimator and Bayes Risk"
   ]
  },
  {
   "cell_type": "markdown",
   "id": "59939cbd-7c15-4967-9c76-e2b2954beccc",
   "metadata": {},
   "source": [
    "## Question 1\n",
    "\n",
    "### Supervised learning setting\n",
    "The Poisson distribution can be used to model rare events such as the number of claims to an insurance company. Let's take this scenario for the first exercise: The number of claims in a year would be modelled using a Poisson distribution and the total amount of the claims will be following a $Gamma$ distribution.\n",
    "\n",
    "- Let $\\mathcal{X}$ the input space, the number of claims recorded in a year\n",
    "- Let $\\mathcal{Y}$ the output space, the cumulated amount of those claims\n",
    "- Let $X \\sim \\mathcal{P}(\\lambda)$ with $\\lambda=2$\n",
    "- Let $Y \\sim Gamma(X, \\theta)$ with $\\theta=1000$\n",
    "- Our loss function $\\mathcal{l}$ will be the squared loss.\n",
    "\n",
    "### Bayes predictor $f^*:\\mathcal{X}\\rightarrow\\mathcal{Y}$ and Bayes Risk\n",
    "We know that the expected value of a Gamma distribution is $\\alpha\\theta$ if its parameters are the following: $Gamma(\\alpha, \\theta)$ and the distribution has the scale parameterization (density of\n",
    "$f(y; k, \\theta) = \\frac{1}{\\Gamma(k)\\theta^k} \\, y^{k - 1} e^{-y / \\theta}, \\quad y > 0, \\, k > 0, \\, \\theta > 0$\n",
    ")\n",
    "\n",
    "So the Bayes estimator would be:\n",
    "\n",
    "$\n",
    "f^* :\n",
    "\\begin{cases}\n",
    "\\mathcal{X} \\to \\mathcal{Y}\\\\\n",
    "x \\mapsto 1000 \\cdot x\n",
    "\\end{cases}\n",
    "$\n",
    "\n",
    "Its risk can be computed the following way:\n",
    "\n",
    "$R(f^*) = \\mathbb{E}[\\mathcal{l}(Y, f^*(X))] = \\mathbb{E}[(\\mathbb{E}[Y | X] - Y)^2]$\n",
    "\n",
    "We know that:\n",
    "- $\\mathbb{E}[(\\mathbb{E}[Y | X] - Y)^2] = \\mathbb{E}[Var(Y|X)]$\n",
    "- $X \\sim Gamma(\\alpha, \\theta)$, $Var(X)=\\alpha\\theta^2$\n",
    "- $X \\sim \\mathcal{P}(\\lambda)$, $\\mathbb{E}[X]=\\lambda$\n",
    "\n",
    "So the Bayes risk is $\\mathbb{E}[Var(Y|X)] = \\mathbb{E}[1000^2X] = 1000^2 \\times \\mathbb{E}[X] = 1000^2 \\times 2 = 2.000.000$"
   ]
  },
  {
   "cell_type": "markdown",
   "id": "54f39189-8a5a-4bfb-9556-30bf8af439b7",
   "metadata": {},
   "source": [
    "## Question 2"
   ]
  }
 ],
 "metadata": {
  "kernelspec": {
   "display_name": "Python 3 (ipykernel)",
   "language": "python",
   "name": "python3"
  },
  "language_info": {
   "codemirror_mode": {
    "name": "ipython",
    "version": 3
   },
   "file_extension": ".py",
   "mimetype": "text/x-python",
   "name": "python",
   "nbconvert_exporter": "python",
   "pygments_lexer": "ipython3",
   "version": "3.12.3"
  }
 },
 "nbformat": 4,
 "nbformat_minor": 5
}
